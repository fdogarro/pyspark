{
 "cells": [
  {
   "cell_type": "code",
   "execution_count": 1,
   "metadata": {
    "id": "7R5Ih_CpU8Gw"
   },
   "outputs": [],
   "source": [
    "import tensorflow as tf\n",
    "from tensorflow import keras\n",
    "from tensorflow.keras.models import Sequential\n",
    "from tensorflow.keras import layers\n",
    "import numpy as np\n",
    "import pandas as pd\n",
    "import matplotlib.pyplot as plt\n",
    "import seaborn as sns\n",
    "from sklearn.model_selection import train_test_split\n",
    "from sklearn.preprocessing import StandardScaler\n",
    "from sklearn.impute import SimpleImputer\n",
    "from tensorflow.keras.callbacks import EarlyStopping\n",
    "from sklearn.metrics import precision_score,recall_score,accuracy_score,confusion_matrix\n",
    "from tensorflow.keras.datasets import imdb\n",
    "import nltk"
   ]
  },
  {
   "cell_type": "code",
   "execution_count": 24,
   "metadata": {
    "id": "bKjX8kHYhiAN"
   },
   "outputs": [],
   "source": [
    "(train_data, train_labels), (test_data,test_labels) = imdb.load_data(num_words=10000)"
   ]
  },
  {
   "cell_type": "code",
   "execution_count": 25,
   "metadata": {
    "colab": {
     "base_uri": "https://localhost:8080/"
    },
    "id": "siQLnnojjBrg",
    "outputId": "58d3d1fd-9936-4e30-8ce1-bebb455ef2b5"
   },
   "outputs": [
    {
     "data": {
      "text/plain": [
       "[1,\n",
       " 14,\n",
       " 22,\n",
       " 16,\n",
       " 43,\n",
       " 530,\n",
       " 973,\n",
       " 1622,\n",
       " 1385,\n",
       " 65,\n",
       " 458,\n",
       " 4468,\n",
       " 66,\n",
       " 3941,\n",
       " 4,\n",
       " 173,\n",
       " 36,\n",
       " 256,\n",
       " 5,\n",
       " 25,\n",
       " 100,\n",
       " 43,\n",
       " 838,\n",
       " 112,\n",
       " 50,\n",
       " 670,\n",
       " 2,\n",
       " 9,\n",
       " 35,\n",
       " 480,\n",
       " 284,\n",
       " 5,\n",
       " 150,\n",
       " 4,\n",
       " 172,\n",
       " 112,\n",
       " 167,\n",
       " 2,\n",
       " 336,\n",
       " 385,\n",
       " 39,\n",
       " 4,\n",
       " 172,\n",
       " 4536,\n",
       " 1111,\n",
       " 17,\n",
       " 546,\n",
       " 38,\n",
       " 13,\n",
       " 447,\n",
       " 4,\n",
       " 192,\n",
       " 50,\n",
       " 16,\n",
       " 6,\n",
       " 147,\n",
       " 2025,\n",
       " 19,\n",
       " 14,\n",
       " 22,\n",
       " 4,\n",
       " 1920,\n",
       " 4613,\n",
       " 469,\n",
       " 4,\n",
       " 22,\n",
       " 71,\n",
       " 87,\n",
       " 12,\n",
       " 16,\n",
       " 43,\n",
       " 530,\n",
       " 38,\n",
       " 76,\n",
       " 15,\n",
       " 13,\n",
       " 1247,\n",
       " 4,\n",
       " 22,\n",
       " 17,\n",
       " 515,\n",
       " 17,\n",
       " 12,\n",
       " 16,\n",
       " 626,\n",
       " 18,\n",
       " 2,\n",
       " 5,\n",
       " 62,\n",
       " 386,\n",
       " 12,\n",
       " 8,\n",
       " 316,\n",
       " 8,\n",
       " 106,\n",
       " 5,\n",
       " 4,\n",
       " 2223,\n",
       " 5244,\n",
       " 16,\n",
       " 480,\n",
       " 66,\n",
       " 3785,\n",
       " 33,\n",
       " 4,\n",
       " 130,\n",
       " 12,\n",
       " 16,\n",
       " 38,\n",
       " 619,\n",
       " 5,\n",
       " 25,\n",
       " 124,\n",
       " 51,\n",
       " 36,\n",
       " 135,\n",
       " 48,\n",
       " 25,\n",
       " 1415,\n",
       " 33,\n",
       " 6,\n",
       " 22,\n",
       " 12,\n",
       " 215,\n",
       " 28,\n",
       " 77,\n",
       " 52,\n",
       " 5,\n",
       " 14,\n",
       " 407,\n",
       " 16,\n",
       " 82,\n",
       " 2,\n",
       " 8,\n",
       " 4,\n",
       " 107,\n",
       " 117,\n",
       " 5952,\n",
       " 15,\n",
       " 256,\n",
       " 4,\n",
       " 2,\n",
       " 7,\n",
       " 3766,\n",
       " 5,\n",
       " 723,\n",
       " 36,\n",
       " 71,\n",
       " 43,\n",
       " 530,\n",
       " 476,\n",
       " 26,\n",
       " 400,\n",
       " 317,\n",
       " 46,\n",
       " 7,\n",
       " 4,\n",
       " 2,\n",
       " 1029,\n",
       " 13,\n",
       " 104,\n",
       " 88,\n",
       " 4,\n",
       " 381,\n",
       " 15,\n",
       " 297,\n",
       " 98,\n",
       " 32,\n",
       " 2071,\n",
       " 56,\n",
       " 26,\n",
       " 141,\n",
       " 6,\n",
       " 194,\n",
       " 7486,\n",
       " 18,\n",
       " 4,\n",
       " 226,\n",
       " 22,\n",
       " 21,\n",
       " 134,\n",
       " 476,\n",
       " 26,\n",
       " 480,\n",
       " 5,\n",
       " 144,\n",
       " 30,\n",
       " 5535,\n",
       " 18,\n",
       " 51,\n",
       " 36,\n",
       " 28,\n",
       " 224,\n",
       " 92,\n",
       " 25,\n",
       " 104,\n",
       " 4,\n",
       " 226,\n",
       " 65,\n",
       " 16,\n",
       " 38,\n",
       " 1334,\n",
       " 88,\n",
       " 12,\n",
       " 16,\n",
       " 283,\n",
       " 5,\n",
       " 16,\n",
       " 4472,\n",
       " 113,\n",
       " 103,\n",
       " 32,\n",
       " 15,\n",
       " 16,\n",
       " 5345,\n",
       " 19,\n",
       " 178,\n",
       " 32]"
      ]
     },
     "execution_count": 25,
     "metadata": {},
     "output_type": "execute_result"
    }
   ],
   "source": [
    "train_data[0]"
   ]
  },
  {
   "cell_type": "code",
   "execution_count": 26,
   "metadata": {
    "colab": {
     "base_uri": "https://localhost:8080/"
    },
    "id": "oyXWFvWujFHK",
    "outputId": "5a0f80eb-0192-4ad8-9646-4a51915b3dca"
   },
   "outputs": [
    {
     "data": {
      "text/plain": [
       "1"
      ]
     },
     "execution_count": 26,
     "metadata": {},
     "output_type": "execute_result"
    }
   ],
   "source": [
    "train_labels[0]"
   ]
  },
  {
   "cell_type": "code",
   "execution_count": 27,
   "metadata": {
    "colab": {
     "base_uri": "https://localhost:8080/"
    },
    "id": "rIrb6lhRjKil",
    "outputId": "63e0f038-700b-473a-f50b-2954829d3faa"
   },
   "outputs": [
    {
     "data": {
      "text/plain": [
       "9999"
      ]
     },
     "execution_count": 27,
     "metadata": {},
     "output_type": "execute_result"
    }
   ],
   "source": [
    "max([max(sequence) for sequence in train_data])"
   ]
  },
  {
   "cell_type": "code",
   "execution_count": 28,
   "metadata": {
    "colab": {
     "base_uri": "https://localhost:8080/"
    },
    "id": "dFBzcolHjcOj",
    "outputId": "2b46acbe-0462-491c-a6f3-bb5bf559d497"
   },
   "outputs": [
    {
     "name": "stdout",
     "output_type": "stream",
     "text": [
      "Downloading data from https://storage.googleapis.com/tensorflow/tf-keras-datasets/imdb_word_index.json\n",
      "1646592/1641221 [==============================] - 0s 0us/step\n",
      "1654784/1641221 [==============================] - 0s 0us/step\n"
     ]
    }
   ],
   "source": [
    "# word_index is a dictionary mapping words to an integer index\n",
    "word_index = imdb.get_word_index()\n",
    "# We reverse it, mapping integer indices to words\n",
    "reverse_word_index = dict([(value, key) for (key, value) in \n",
    "word_index.items()])\n",
    "# We decode the review; indices are offset by 3\n",
    "decoded_review = ' '.join([reverse_word_index.get(i - 3, '?') \n",
    "for i in train_data[0]])"
   ]
  },
  {
   "cell_type": "code",
   "execution_count": 29,
   "metadata": {
    "colab": {
     "base_uri": "https://localhost:8080/",
     "height": 178
    },
    "id": "Hf9yu60IjhRI",
    "outputId": "2be76c3c-6f67-41e8-eb2e-b45658bff7f5"
   },
   "outputs": [
    {
     "data": {
      "application/vnd.google.colaboratory.intrinsic+json": {
       "type": "string"
      },
      "text/plain": [
       "\"? this film was just brilliant casting location scenery story direction everyone's really suited the part they played and you could just imagine being there robert ? is an amazing actor and now the same being director ? father came from the same scottish island as myself so i loved the fact there was a real connection with this film the witty remarks throughout the film were great it was just brilliant so much that i bought the film as soon as it was released for ? and would recommend it to everyone to watch and the fly fishing was amazing really cried at the end it was so sad and you know what they say if you cry at a film it must have been good and this definitely was also ? to the two little boy's that played the ? of norman and paul they were just brilliant children are often left out of the ? list i think because the stars that play them all grown up are such a big profile for the whole film but these children are amazing and should be praised for what they have done don't you think the whole story was so lovely because it was true and was someone's life after all that was shared with us all\""
      ]
     },
     "execution_count": 29,
     "metadata": {},
     "output_type": "execute_result"
    }
   ],
   "source": [
    "decoded_review"
   ]
  },
  {
   "cell_type": "code",
   "execution_count": 31,
   "metadata": {
    "id": "TtQYd12zjy8a"
   },
   "outputs": [],
   "source": [
    "import numpy as np\n",
    "def vectorize_sequences(sequences, dimension=10000):\n",
    "# Create an all-zero matrix of shape (len(sequences), dimension)\n",
    "  results = np.zeros((len(sequences), dimension))\n",
    "  for i, sequence in enumerate(sequences):\n",
    "    results[i, sequence] = 1.  # set specific indices of results[i] to 1s\n",
    "    return results\n",
    "# Our vectorized training data\n",
    "x_train = vectorize_sequences(train_data)\n",
    "# Our vectorized test data\n",
    "x_test = vectorize_sequences(test_data) "
   ]
  },
  {
   "cell_type": "code",
   "execution_count": 32,
   "metadata": {
    "colab": {
     "base_uri": "https://localhost:8080/"
    },
    "id": "TZb445yXkDPL",
    "outputId": "081e1f96-ff07-4973-f3ec-b20ddb6de433"
   },
   "outputs": [
    {
     "data": {
      "text/plain": [
       "array([0., 1., 1., ..., 0., 0., 0.])"
      ]
     },
     "execution_count": 32,
     "metadata": {},
     "output_type": "execute_result"
    }
   ],
   "source": [
    "x_train[0]"
   ]
  },
  {
   "cell_type": "code",
   "execution_count": 33,
   "metadata": {
    "id": "ZjlSx4-lkFUj"
   },
   "outputs": [],
   "source": [
    "y_train = np.asarray(train_labels).astype('float32')\n",
    "y_test = np.asarray(test_labels).astype('float32')"
   ]
  },
  {
   "cell_type": "code",
   "execution_count": 34,
   "metadata": {
    "id": "9A406rtEkSDv"
   },
   "outputs": [],
   "source": [
    "import tensorflow as tf\n",
    "from tensorflow import keras\n",
    "from tensorflow.keras import models\n",
    "from tensorflow.keras import layers\n",
    "model = models.Sequential()\n",
    "model.add(layers.Dense(16, activation='relu', input_shape=(10000,)))\n",
    "model.add(layers.Dense(16, activation='relu'))\n",
    "model.add(layers.Dense(1, activation='sigmoid'))"
   ]
  },
  {
   "cell_type": "code",
   "execution_count": 35,
   "metadata": {
    "id": "MXYZ1z-mkYJn"
   },
   "outputs": [],
   "source": [
    "model.compile(optimizer='sgd',\n",
    "loss='binary_crossentropy',\n",
    "metrics=['accuracy'])"
   ]
  },
  {
   "cell_type": "code",
   "execution_count": 37,
   "metadata": {
    "id": "E8OXMK07kolu"
   },
   "outputs": [],
   "source": [
    "def loss(X, Y):\n",
    "  return tf.reduce_mean(tf.nn.sigmoid_cross_entropy_with_logits(combine_inputs(X), Y))"
   ]
  },
  {
   "cell_type": "code",
   "execution_count": 38,
   "metadata": {
    "id": "94euyYPIk7WN"
   },
   "outputs": [],
   "source": [
    "x_val = x_train[:10000]\n",
    "partial_x_train = x_train[10000:]\n",
    "y_val = y_train[:10000]\n",
    "partial_y_train = y_train[10000:]"
   ]
  },
  {
   "cell_type": "code",
   "execution_count": 39,
   "metadata": {
    "colab": {
     "base_uri": "https://localhost:8080/"
    },
    "id": "ItMrZ48Uk-3e",
    "outputId": "0e5070cb-9da1-4302-c524-681ef16797d7"
   },
   "outputs": [
    {
     "name": "stdout",
     "output_type": "stream",
     "text": [
      "Epoch 1/20\n",
      "30/30 [==============================] - 4s 86ms/step - loss: 0.6931 - accuracy: 0.4958 - val_loss: 0.6932 - val_accuracy: 0.4948\n",
      "Epoch 2/20\n",
      "30/30 [==============================] - 1s 44ms/step - loss: 0.6931 - accuracy: 0.5035 - val_loss: 0.6932 - val_accuracy: 0.4948\n",
      "Epoch 3/20\n",
      "30/30 [==============================] - 1s 29ms/step - loss: 0.6931 - accuracy: 0.5035 - val_loss: 0.6932 - val_accuracy: 0.4948\n",
      "Epoch 4/20\n",
      "30/30 [==============================] - 1s 21ms/step - loss: 0.6931 - accuracy: 0.5035 - val_loss: 0.6932 - val_accuracy: 0.4948\n",
      "Epoch 5/20\n",
      "30/30 [==============================] - 1s 22ms/step - loss: 0.6931 - accuracy: 0.5035 - val_loss: 0.6932 - val_accuracy: 0.4948\n",
      "Epoch 6/20\n",
      "30/30 [==============================] - 1s 21ms/step - loss: 0.6931 - accuracy: 0.5035 - val_loss: 0.6932 - val_accuracy: 0.4948\n",
      "Epoch 7/20\n",
      "30/30 [==============================] - 1s 22ms/step - loss: 0.6931 - accuracy: 0.5035 - val_loss: 0.6932 - val_accuracy: 0.4948\n",
      "Epoch 8/20\n",
      "30/30 [==============================] - 1s 21ms/step - loss: 0.6931 - accuracy: 0.5035 - val_loss: 0.6932 - val_accuracy: 0.4948\n",
      "Epoch 9/20\n",
      "30/30 [==============================] - 1s 21ms/step - loss: 0.6931 - accuracy: 0.5035 - val_loss: 0.6932 - val_accuracy: 0.4948\n",
      "Epoch 10/20\n",
      "30/30 [==============================] - 1s 22ms/step - loss: 0.6931 - accuracy: 0.5035 - val_loss: 0.6932 - val_accuracy: 0.4948\n",
      "Epoch 11/20\n",
      "30/30 [==============================] - 1s 22ms/step - loss: 0.6931 - accuracy: 0.5035 - val_loss: 0.6932 - val_accuracy: 0.4948\n",
      "Epoch 12/20\n",
      "30/30 [==============================] - 1s 21ms/step - loss: 0.6931 - accuracy: 0.5035 - val_loss: 0.6932 - val_accuracy: 0.4948\n",
      "Epoch 13/20\n",
      "30/30 [==============================] - 1s 22ms/step - loss: 0.6931 - accuracy: 0.5035 - val_loss: 0.6932 - val_accuracy: 0.4948\n",
      "Epoch 14/20\n",
      "30/30 [==============================] - 1s 21ms/step - loss: 0.6931 - accuracy: 0.5035 - val_loss: 0.6932 - val_accuracy: 0.4948\n",
      "Epoch 15/20\n",
      "30/30 [==============================] - 1s 22ms/step - loss: 0.6931 - accuracy: 0.5035 - val_loss: 0.6932 - val_accuracy: 0.4948\n",
      "Epoch 16/20\n",
      "30/30 [==============================] - 1s 22ms/step - loss: 0.6931 - accuracy: 0.5035 - val_loss: 0.6932 - val_accuracy: 0.4948\n",
      "Epoch 17/20\n",
      "30/30 [==============================] - 1s 21ms/step - loss: 0.6931 - accuracy: 0.5035 - val_loss: 0.6932 - val_accuracy: 0.4948\n",
      "Epoch 18/20\n",
      "30/30 [==============================] - 1s 22ms/step - loss: 0.6931 - accuracy: 0.5035 - val_loss: 0.6932 - val_accuracy: 0.4948\n",
      "Epoch 19/20\n",
      "30/30 [==============================] - 1s 21ms/step - loss: 0.6931 - accuracy: 0.5035 - val_loss: 0.6932 - val_accuracy: 0.4948\n",
      "Epoch 20/20\n",
      "30/30 [==============================] - 1s 23ms/step - loss: 0.6931 - accuracy: 0.5035 - val_loss: 0.6932 - val_accuracy: 0.4948\n"
     ]
    }
   ],
   "source": [
    "history = model.fit(partial_x_train,\n",
    "partial_y_train,\n",
    "epochs=20,\n",
    "batch_size=512,\n",
    "validation_data=(x_val, y_val))"
   ]
  },
  {
   "cell_type": "code",
   "execution_count": 40,
   "metadata": {
    "colab": {
     "base_uri": "https://localhost:8080/"
    },
    "id": "usjgTZEhlgha",
    "outputId": "d12e1354-16a0-4c10-bed0-6403f0f60adb"
   },
   "outputs": [
    {
     "data": {
      "text/plain": [
       "dict_keys(['loss', 'accuracy', 'val_loss', 'val_accuracy'])"
      ]
     },
     "execution_count": 40,
     "metadata": {},
     "output_type": "execute_result"
    }
   ],
   "source": [
    "history_dict = history.history\n",
    "history_dict.keys()"
   ]
  },
  {
   "cell_type": "code",
   "execution_count": 41,
   "metadata": {
    "id": "hhyIxcomln7Q"
   },
   "outputs": [],
   "source": [
    "import matplotlib.pyplot as plt\n",
    "\n",
    "acc = history.history['accuracy']\n",
    "val_acc = history.history['val_accuracy']\n",
    "loss = history.history['loss']\n",
    "val_loss = history.history['val_loss']\n",
    "epochs = range(1, len(acc) + 1)"
   ]
  },
  {
   "cell_type": "code",
   "execution_count": 42,
   "metadata": {
    "colab": {
     "base_uri": "https://localhost:8080/",
     "height": 295
    },
    "id": "zDaFifN_uaDm",
    "outputId": "04d893d2-72db-4299-9387-5d5515b94d96"
   },
   "outputs": [
    {
     "data": {
      "image/png": "[encoded data removed]",
      "text/plain": [
       "<Figure size 432x288 with 1 Axes>"
      ]
     },
     "metadata": {
      "needs_background": "light"
     },
     "output_type": "display_data"
    }
   ],
   "source": [
    "# \"bo\" is for \"blue dot\"\n",
    "plt.plot(epochs, loss, 'bo', label='Training loss')\n",
    "# b is for \"solid blue line\"\n",
    "plt.plot(epochs, val_loss, 'b', label='Validation loss')\n",
    "plt.title('Training and validation loss')\n",
    "plt.xlabel('Epochs')\n",
    "plt.ylabel('Loss')\n",
    "plt.legend()\n",
    "plt.show()"
   ]
  },
  {
   "cell_type": "code",
   "execution_count": 43,
   "metadata": {
    "colab": {
     "base_uri": "https://localhost:8080/"
    },
    "id": "kml_j2IxuciN",
    "outputId": "aabadf1b-b57d-49b4-8599-520a69aefef5"
   },
   "outputs": [
    {
     "name": "stdout",
     "output_type": "stream",
     "text": [
      "Epoch 1/45\n",
      "59/59 [==============================] - 3s 45ms/step - loss: 0.6932 - accuracy: 0.4970 - val_loss: 0.6932 - val_accuracy: 0.4947\n",
      "Epoch 2/45\n",
      "59/59 [==============================] - 2s 27ms/step - loss: 0.6931 - accuracy: 0.5035 - val_loss: 0.6932 - val_accuracy: 0.4947\n",
      "Epoch 3/45\n",
      "59/59 [==============================] - 1s 16ms/step - loss: 0.6931 - accuracy: 0.5035 - val_loss: 0.6932 - val_accuracy: 0.4947\n",
      "Epoch 4/45\n",
      "59/59 [==============================] - 1s 14ms/step - loss: 0.6931 - accuracy: 0.5035 - val_loss: 0.6932 - val_accuracy: 0.4947\n",
      "Epoch 5/45\n",
      "59/59 [==============================] - 1s 16ms/step - loss: 0.6931 - accuracy: 0.5035 - val_loss: 0.6932 - val_accuracy: 0.4947\n",
      "Epoch 6/45\n",
      "59/59 [==============================] - 1s 13ms/step - loss: 0.6931 - accuracy: 0.5035 - val_loss: 0.6932 - val_accuracy: 0.4947\n",
      "Epoch 7/45\n",
      "59/59 [==============================] - 1s 13ms/step - loss: 0.6931 - accuracy: 0.5035 - val_loss: 0.6932 - val_accuracy: 0.4947\n",
      "Epoch 8/45\n",
      "59/59 [==============================] - 1s 15ms/step - loss: 0.6931 - accuracy: 0.5035 - val_loss: 0.6932 - val_accuracy: 0.4947\n",
      "Epoch 9/45\n",
      "59/59 [==============================] - 1s 16ms/step - loss: 0.6931 - accuracy: 0.5035 - val_loss: 0.6932 - val_accuracy: 0.4947\n",
      "Epoch 10/45\n",
      "59/59 [==============================] - 1s 16ms/step - loss: 0.6931 - accuracy: 0.5035 - val_loss: 0.6932 - val_accuracy: 0.4947\n",
      "Epoch 11/45\n",
      "59/59 [==============================] - 1s 13ms/step - loss: 0.6931 - accuracy: 0.5035 - val_loss: 0.6932 - val_accuracy: 0.4947\n",
      "Epoch 12/45\n",
      "59/59 [==============================] - 1s 16ms/step - loss: 0.6931 - accuracy: 0.5035 - val_loss: 0.6932 - val_accuracy: 0.4947\n",
      "Epoch 13/45\n",
      "59/59 [==============================] - 1s 14ms/step - loss: 0.6931 - accuracy: 0.5035 - val_loss: 0.6932 - val_accuracy: 0.4947\n",
      "Epoch 14/45\n",
      "59/59 [==============================] - 1s 15ms/step - loss: 0.6931 - accuracy: 0.5035 - val_loss: 0.6932 - val_accuracy: 0.4947\n",
      "Epoch 15/45\n",
      "59/59 [==============================] - 1s 13ms/step - loss: 0.6931 - accuracy: 0.5035 - val_loss: 0.6932 - val_accuracy: 0.4947\n",
      "Epoch 16/45\n",
      "59/59 [==============================] - 1s 14ms/step - loss: 0.6931 - accuracy: 0.5035 - val_loss: 0.6932 - val_accuracy: 0.4947\n",
      "Epoch 17/45\n",
      "59/59 [==============================] - 1s 16ms/step - loss: 0.6931 - accuracy: 0.5035 - val_loss: 0.6932 - val_accuracy: 0.4947\n",
      "Epoch 18/45\n",
      "59/59 [==============================] - 1s 14ms/step - loss: 0.6931 - accuracy: 0.5035 - val_loss: 0.6932 - val_accuracy: 0.4947\n",
      "Epoch 19/45\n",
      "59/59 [==============================] - 1s 13ms/step - loss: 0.6931 - accuracy: 0.5035 - val_loss: 0.6932 - val_accuracy: 0.4947\n",
      "Epoch 20/45\n",
      "59/59 [==============================] - 1s 16ms/step - loss: 0.6931 - accuracy: 0.5035 - val_loss: 0.6932 - val_accuracy: 0.4947\n",
      "Epoch 21/45\n",
      "59/59 [==============================] - 1s 16ms/step - loss: 0.6931 - accuracy: 0.5035 - val_loss: 0.6932 - val_accuracy: 0.4947\n",
      "Epoch 22/45\n",
      "59/59 [==============================] - 1s 16ms/step - loss: 0.6931 - accuracy: 0.5035 - val_loss: 0.6932 - val_accuracy: 0.4947\n",
      "Epoch 23/45\n",
      "59/59 [==============================] - 1s 13ms/step - loss: 0.6931 - accuracy: 0.5035 - val_loss: 0.6933 - val_accuracy: 0.4947\n",
      "Epoch 24/45\n",
      "59/59 [==============================] - 1s 16ms/step - loss: 0.6931 - accuracy: 0.5035 - val_loss: 0.6933 - val_accuracy: 0.4947\n",
      "Epoch 25/45\n",
      "59/59 [==============================] - 1s 14ms/step - loss: 0.6931 - accuracy: 0.5035 - val_loss: 0.6933 - val_accuracy: 0.4947\n",
      "Epoch 26/45\n",
      "59/59 [==============================] - 1s 13ms/step - loss: 0.6931 - accuracy: 0.5035 - val_loss: 0.6933 - val_accuracy: 0.4947\n",
      "Epoch 27/45\n",
      "59/59 [==============================] - 1s 13ms/step - loss: 0.6931 - accuracy: 0.5035 - val_loss: 0.6933 - val_accuracy: 0.4947\n",
      "Epoch 28/45\n",
      "59/59 [==============================] - 1s 14ms/step - loss: 0.6931 - accuracy: 0.5035 - val_loss: 0.6933 - val_accuracy: 0.4947\n",
      "Epoch 29/45\n",
      "59/59 [==============================] - 1s 16ms/step - loss: 0.6931 - accuracy: 0.5035 - val_loss: 0.6933 - val_accuracy: 0.4947\n",
      "Epoch 30/45\n",
      "59/59 [==============================] - 1s 16ms/step - loss: 0.6931 - accuracy: 0.5035 - val_loss: 0.6933 - val_accuracy: 0.4947\n",
      "Epoch 31/45\n",
      "59/59 [==============================] - 1s 13ms/step - loss: 0.6931 - accuracy: 0.5035 - val_loss: 0.6933 - val_accuracy: 0.4947\n",
      "Epoch 32/45\n",
      "59/59 [==============================] - 1s 15ms/step - loss: 0.6931 - accuracy: 0.5035 - val_loss: 0.6933 - val_accuracy: 0.4947\n",
      "Epoch 33/45\n",
      "59/59 [==============================] - 1s 13ms/step - loss: 0.6931 - accuracy: 0.5035 - val_loss: 0.6933 - val_accuracy: 0.4947\n",
      "Epoch 34/45\n",
      "59/59 [==============================] - 1s 16ms/step - loss: 0.6931 - accuracy: 0.5035 - val_loss: 0.6933 - val_accuracy: 0.4947\n",
      "Epoch 35/45\n",
      "59/59 [==============================] - 1s 16ms/step - loss: 0.6931 - accuracy: 0.5035 - val_loss: 0.6933 - val_accuracy: 0.4947\n",
      "Epoch 36/45\n",
      "59/59 [==============================] - 1s 13ms/step - loss: 0.6931 - accuracy: 0.5035 - val_loss: 0.6933 - val_accuracy: 0.4947\n",
      "Epoch 37/45\n",
      "59/59 [==============================] - 1s 13ms/step - loss: 0.6931 - accuracy: 0.5035 - val_loss: 0.6933 - val_accuracy: 0.4947\n",
      "Epoch 38/45\n",
      "59/59 [==============================] - 1s 14ms/step - loss: 0.6931 - accuracy: 0.5035 - val_loss: 0.6933 - val_accuracy: 0.4947\n",
      "Epoch 39/45\n",
      "59/59 [==============================] - 1s 16ms/step - loss: 0.6931 - accuracy: 0.5035 - val_loss: 0.6933 - val_accuracy: 0.4947\n",
      "Epoch 40/45\n",
      "59/59 [==============================] - 1s 13ms/step - loss: 0.6931 - accuracy: 0.5035 - val_loss: 0.6933 - val_accuracy: 0.4947\n",
      "Epoch 41/45\n",
      "59/59 [==============================] - 1s 13ms/step - loss: 0.6931 - accuracy: 0.5035 - val_loss: 0.6933 - val_accuracy: 0.4947\n",
      "Epoch 42/45\n",
      "59/59 [==============================] - 1s 14ms/step - loss: 0.6931 - accuracy: 0.5035 - val_loss: 0.6933 - val_accuracy: 0.4947\n",
      "Epoch 43/45\n",
      "59/59 [==============================] - 1s 16ms/step - loss: 0.6931 - accuracy: 0.5035 - val_loss: 0.6933 - val_accuracy: 0.4947\n",
      "Epoch 44/45\n",
      "59/59 [==============================] - 1s 16ms/step - loss: 0.6931 - accuracy: 0.5035 - val_loss: 0.6933 - val_accuracy: 0.4947\n",
      "Epoch 45/45\n",
      "59/59 [==============================] - 1s 15ms/step - loss: 0.6931 - accuracy: 0.5035 - val_loss: 0.6933 - val_accuracy: 0.4947\n",
      "782/782 [==============================] - 2s 2ms/step - loss: 0.6932 - accuracy: 0.5000\n"
     ]
    }
   ],
   "source": [
    "model = models.Sequential()\n",
    "model.add(layers.Dense(16, activation='relu', input_shape=(10000,)))\n",
    "model.add(layers.Dense(16, activation='relu'))\n",
    "model.add(layers.Dense(1, activation='sigmoid'))\n",
    "model.compile(optimizer='sgd',\n",
    "loss='binary_crossentropy',\n",
    "metrics=['accuracy'])\n",
    "history = model.fit(partial_x_train,\n",
    "partial_y_train,\n",
    "epochs=45,\n",
    "batch_size=256,\n",
    "validation_data=(x_val, y_val))\n",
    "results = model.evaluate(x_test, y_test)"
   ]
  },
  {
   "cell_type": "code",
   "execution_count": 44,
   "metadata": {
    "id": "69MTkyJjxvHK"
   },
   "outputs": [],
   "source": [
    "import tensorflow as tf\n",
    "from tensorflow import keras\n",
    "from tensorflow.keras import models\n",
    "from tensorflow.keras import layers\n",
    "from tensorflow.keras import regularizers"
   ]
  },
  {
   "cell_type": "code",
   "execution_count": 46,
   "metadata": {
    "colab": {
     "base_uri": "https://localhost:8080/"
    },
    "id": "-6xVMTurx_Lb",
    "outputId": "7f8817df-5c84-4890-f6a8-95825114be99"
   },
   "outputs": [
    {
     "name": "stdout",
     "output_type": "stream",
     "text": [
      "Epoch 1/140\n",
      "59/59 [==============================] - 1s 18ms/step - loss: 1.1756 - accuracy: 0.0000e+00 - val_loss: 1.1698 - val_accuracy: 0.0000e+00\n",
      "Epoch 2/140\n",
      "59/59 [==============================] - 1s 14ms/step - loss: 1.1643 - accuracy: 0.0000e+00 - val_loss: 1.1587 - val_accuracy: 0.0000e+00\n",
      "Epoch 3/140\n",
      "59/59 [==============================] - 1s 14ms/step - loss: 1.1533 - accuracy: 0.0000e+00 - val_loss: 1.1478 - val_accuracy: 0.0000e+00\n",
      "Epoch 4/140\n",
      "59/59 [==============================] - 1s 14ms/step - loss: 1.1426 - accuracy: 0.0000e+00 - val_loss: 1.1372 - val_accuracy: 0.0000e+00\n",
      "Epoch 5/140\n",
      "59/59 [==============================] - 1s 13ms/step - loss: 1.1321 - accuracy: 0.0000e+00 - val_loss: 1.1269 - val_accuracy: 0.0000e+00\n",
      "Epoch 6/140\n",
      "59/59 [==============================] - 1s 16ms/step - loss: 1.1218 - accuracy: 0.0000e+00 - val_loss: 1.1167 - val_accuracy: 0.0000e+00\n",
      "Epoch 7/140\n",
      "59/59 [==============================] - 1s 16ms/step - loss: 1.1118 - accuracy: 0.0000e+00 - val_loss: 1.1069 - val_accuracy: 0.0000e+00\n",
      "Epoch 8/140\n",
      "59/59 [==============================] - 1s 16ms/step - loss: 1.1021 - accuracy: 0.0000e+00 - val_loss: 1.0972 - val_accuracy: 0.0000e+00\n",
      "Epoch 9/140\n",
      "59/59 [==============================] - 1s 14ms/step - loss: 1.0925 - accuracy: 0.0000e+00 - val_loss: 1.0878 - val_accuracy: 0.0000e+00\n",
      "Epoch 10/140\n",
      "59/59 [==============================] - 1s 16ms/step - loss: 1.0832 - accuracy: 0.0000e+00 - val_loss: 1.0786 - val_accuracy: 0.0000e+00\n",
      "Epoch 11/140\n",
      "59/59 [==============================] - 1s 16ms/step - loss: 1.0741 - accuracy: 0.0000e+00 - val_loss: 1.0696 - val_accuracy: 0.0000e+00\n",
      "Epoch 12/140\n",
      "59/59 [==============================] - 1s 13ms/step - loss: 1.0652 - accuracy: 0.0000e+00 - val_loss: 1.0609 - val_accuracy: 0.0000e+00\n",
      "Epoch 13/140\n",
      "59/59 [==============================] - 1s 14ms/step - loss: 1.0565 - accuracy: 0.0000e+00 - val_loss: 1.0523 - val_accuracy: 0.0000e+00\n",
      "Epoch 14/140\n",
      "59/59 [==============================] - 1s 13ms/step - loss: 1.0481 - accuracy: 0.0000e+00 - val_loss: 1.0439 - val_accuracy: 0.0000e+00\n",
      "Epoch 15/140\n",
      "59/59 [==============================] - 1s 14ms/step - loss: 1.0398 - accuracy: 0.0000e+00 - val_loss: 1.0357 - val_accuracy: 0.0000e+00\n",
      "Epoch 16/140\n",
      "59/59 [==============================] - 1s 16ms/step - loss: 1.0317 - accuracy: 0.0000e+00 - val_loss: 1.0277 - val_accuracy: 0.0000e+00\n",
      "Epoch 17/140\n",
      "59/59 [==============================] - 1s 15ms/step - loss: 1.0238 - accuracy: 0.0000e+00 - val_loss: 1.0199 - val_accuracy: 0.0000e+00\n",
      "Epoch 18/140\n",
      "59/59 [==============================] - 1s 14ms/step - loss: 1.0161 - accuracy: 0.0000e+00 - val_loss: 1.0123 - val_accuracy: 0.0000e+00\n",
      "Epoch 19/140\n",
      "59/59 [==============================] - 1s 16ms/step - loss: 1.0086 - accuracy: 0.0000e+00 - val_loss: 1.0049 - val_accuracy: 0.0000e+00\n",
      "Epoch 20/140\n",
      "59/59 [==============================] - 1s 14ms/step - loss: 1.0012 - accuracy: 0.0000e+00 - val_loss: 0.9976 - val_accuracy: 0.0000e+00\n",
      "Epoch 21/140\n",
      "59/59 [==============================] - 1s 16ms/step - loss: 0.9940 - accuracy: 0.0000e+00 - val_loss: 0.9905 - val_accuracy: 0.0000e+00\n",
      "Epoch 22/140\n",
      "59/59 [==============================] - 1s 16ms/step - loss: 0.9870 - accuracy: 0.0000e+00 - val_loss: 0.9836 - val_accuracy: 0.0000e+00\n",
      "Epoch 23/140\n",
      "59/59 [==============================] - 1s 14ms/step - loss: 0.9801 - accuracy: 0.0000e+00 - val_loss: 0.9768 - val_accuracy: 0.0000e+00\n",
      "Epoch 24/140\n",
      "59/59 [==============================] - 1s 13ms/step - loss: 0.9734 - accuracy: 0.0000e+00 - val_loss: 0.9702 - val_accuracy: 0.0000e+00\n",
      "Epoch 25/140\n",
      "59/59 [==============================] - 1s 16ms/step - loss: 0.9669 - accuracy: 0.0000e+00 - val_loss: 0.9637 - val_accuracy: 0.0000e+00\n",
      "Epoch 26/140\n",
      "59/59 [==============================] - 1s 16ms/step - loss: 0.9605 - accuracy: 0.0000e+00 - val_loss: 0.9574 - val_accuracy: 0.0000e+00\n",
      "Epoch 27/140\n",
      "59/59 [==============================] - 1s 13ms/step - loss: 0.9543 - accuracy: 0.0000e+00 - val_loss: 0.9513 - val_accuracy: 0.0000e+00\n",
      "Epoch 28/140\n",
      "59/59 [==============================] - 1s 13ms/step - loss: 0.9482 - accuracy: 0.0000e+00 - val_loss: 0.9452 - val_accuracy: 0.0000e+00\n",
      "Epoch 29/140\n",
      "59/59 [==============================] - 1s 16ms/step - loss: 0.9422 - accuracy: 0.0000e+00 - val_loss: 0.9394 - val_accuracy: 0.0000e+00\n",
      "Epoch 30/140\n",
      "59/59 [==============================] - 1s 14ms/step - loss: 0.9364 - accuracy: 0.0000e+00 - val_loss: 0.9336 - val_accuracy: 0.0000e+00\n",
      "Epoch 31/140\n",
      "59/59 [==============================] - 1s 16ms/step - loss: 0.9308 - accuracy: 0.0000e+00 - val_loss: 0.9280 - val_accuracy: 0.0000e+00\n",
      "Epoch 32/140\n",
      "59/59 [==============================] - 1s 14ms/step - loss: 0.9252 - accuracy: 0.0000e+00 - val_loss: 0.9225 - val_accuracy: 0.0000e+00\n",
      "Epoch 33/140\n",
      "59/59 [==============================] - 1s 13ms/step - loss: 0.9198 - accuracy: 0.0000e+00 - val_loss: 0.9172 - val_accuracy: 0.0000e+00\n",
      "Epoch 34/140\n",
      "59/59 [==============================] - 1s 16ms/step - loss: 0.9145 - accuracy: 0.0000e+00 - val_loss: 0.9120 - val_accuracy: 0.0000e+00\n",
      "Epoch 35/140\n",
      "59/59 [==============================] - 1s 16ms/step - loss: 0.9094 - accuracy: 0.0000e+00 - val_loss: 0.9069 - val_accuracy: 0.0000e+00\n",
      "Epoch 36/140\n",
      "59/59 [==============================] - 1s 14ms/step - loss: 0.9043 - accuracy: 0.0000e+00 - val_loss: 0.9019 - val_accuracy: 0.0000e+00\n",
      "Epoch 37/140\n",
      "59/59 [==============================] - 1s 16ms/step - loss: 0.8994 - accuracy: 0.0000e+00 - val_loss: 0.8970 - val_accuracy: 0.0000e+00\n",
      "Epoch 38/140\n",
      "59/59 [==============================] - 1s 16ms/step - loss: 0.8946 - accuracy: 0.0000e+00 - val_loss: 0.8923 - val_accuracy: 0.0000e+00\n",
      "Epoch 39/140\n",
      "59/59 [==============================] - 1s 13ms/step - loss: 0.8899 - accuracy: 0.0000e+00 - val_loss: 0.8876 - val_accuracy: 0.0000e+00\n",
      "Epoch 40/140\n",
      "59/59 [==============================] - 1s 16ms/step - loss: 0.8853 - accuracy: 0.0000e+00 - val_loss: 0.8831 - val_accuracy: 0.0000e+00\n",
      "Epoch 41/140\n",
      "59/59 [==============================] - 1s 14ms/step - loss: 0.8808 - accuracy: 0.0000e+00 - val_loss: 0.8787 - val_accuracy: 0.0000e+00\n",
      "Epoch 42/140\n",
      "59/59 [==============================] - 1s 15ms/step - loss: 0.8764 - accuracy: 0.0000e+00 - val_loss: 0.8743 - val_accuracy: 0.0000e+00\n",
      "Epoch 43/140\n",
      "59/59 [==============================] - 1s 14ms/step - loss: 0.8721 - accuracy: 0.0000e+00 - val_loss: 0.8701 - val_accuracy: 0.0000e+00\n",
      "Epoch 44/140\n",
      "59/59 [==============================] - 1s 16ms/step - loss: 0.8680 - accuracy: 0.0000e+00 - val_loss: 0.8660 - val_accuracy: 0.0000e+00\n",
      "Epoch 45/140\n",
      "59/59 [==============================] - 1s 13ms/step - loss: 0.8639 - accuracy: 0.0000e+00 - val_loss: 0.8620 - val_accuracy: 0.0000e+00\n",
      "Epoch 46/140\n",
      "59/59 [==============================] - 1s 16ms/step - loss: 0.8599 - accuracy: 0.0000e+00 - val_loss: 0.8580 - val_accuracy: 0.0000e+00\n",
      "Epoch 47/140\n",
      "59/59 [==============================] - 1s 14ms/step - loss: 0.8560 - accuracy: 0.0000e+00 - val_loss: 0.8542 - val_accuracy: 0.0000e+00\n",
      "Epoch 48/140\n",
      "59/59 [==============================] - 1s 14ms/step - loss: 0.8522 - accuracy: 0.0000e+00 - val_loss: 0.8504 - val_accuracy: 0.0000e+00\n",
      "Epoch 49/140\n",
      "59/59 [==============================] - 1s 14ms/step - loss: 0.8485 - accuracy: 0.0000e+00 - val_loss: 0.8468 - val_accuracy: 0.0000e+00\n",
      "Epoch 50/140\n",
      "59/59 [==============================] - 1s 16ms/step - loss: 0.8449 - accuracy: 0.0000e+00 - val_loss: 0.8432 - val_accuracy: 0.0000e+00\n",
      "Epoch 51/140\n",
      "59/59 [==============================] - 1s 16ms/step - loss: 0.8413 - accuracy: 0.0000e+00 - val_loss: 0.8397 - val_accuracy: 0.0000e+00\n",
      "Epoch 52/140\n",
      "59/59 [==============================] - 1s 14ms/step - loss: 0.8379 - accuracy: 0.0000e+00 - val_loss: 0.8363 - val_accuracy: 0.0000e+00\n",
      "Epoch 53/140\n",
      "59/59 [==============================] - 1s 14ms/step - loss: 0.8345 - accuracy: 0.0000e+00 - val_loss: 0.8329 - val_accuracy: 0.0000e+00\n",
      "Epoch 54/140\n",
      "59/59 [==============================] - 1s 15ms/step - loss: 0.8312 - accuracy: 0.0000e+00 - val_loss: 0.8297 - val_accuracy: 0.0000e+00\n",
      "Epoch 55/140\n",
      "59/59 [==============================] - 1s 13ms/step - loss: 0.8280 - accuracy: 0.0000e+00 - val_loss: 0.8265 - val_accuracy: 0.0000e+00\n",
      "Epoch 56/140\n",
      "59/59 [==============================] - 1s 14ms/step - loss: 0.8248 - accuracy: 0.0000e+00 - val_loss: 0.8234 - val_accuracy: 0.0000e+00\n",
      "Epoch 57/140\n",
      "59/59 [==============================] - 1s 14ms/step - loss: 0.8218 - accuracy: 0.0000e+00 - val_loss: 0.8203 - val_accuracy: 0.0000e+00\n",
      "Epoch 58/140\n",
      "59/59 [==============================] - 1s 14ms/step - loss: 0.8188 - accuracy: 0.0000e+00 - val_loss: 0.8174 - val_accuracy: 0.0000e+00\n",
      "Epoch 59/140\n",
      "59/59 [==============================] - 1s 16ms/step - loss: 0.8158 - accuracy: 0.0000e+00 - val_loss: 0.8145 - val_accuracy: 0.0000e+00\n",
      "Epoch 60/140\n",
      "59/59 [==============================] - 1s 14ms/step - loss: 0.8130 - accuracy: 0.0000e+00 - val_loss: 0.8117 - val_accuracy: 0.0000e+00\n",
      "Epoch 61/140\n",
      "59/59 [==============================] - 1s 16ms/step - loss: 0.8102 - accuracy: 0.0000e+00 - val_loss: 0.8089 - val_accuracy: 0.0000e+00\n",
      "Epoch 62/140\n",
      "59/59 [==============================] - 1s 14ms/step - loss: 0.8075 - accuracy: 0.0000e+00 - val_loss: 0.8062 - val_accuracy: 0.0000e+00\n",
      "Epoch 63/140\n",
      "59/59 [==============================] - 1s 16ms/step - loss: 0.8048 - accuracy: 0.0000e+00 - val_loss: 0.8036 - val_accuracy: 0.0000e+00\n",
      "Epoch 64/140\n",
      "59/59 [==============================] - 1s 14ms/step - loss: 0.8022 - accuracy: 0.0000e+00 - val_loss: 0.8010 - val_accuracy: 0.0000e+00\n",
      "Epoch 65/140\n",
      "59/59 [==============================] - 1s 13ms/step - loss: 0.7996 - accuracy: 0.0000e+00 - val_loss: 0.7985 - val_accuracy: 0.0000e+00\n",
      "Epoch 66/140\n",
      "59/59 [==============================] - 1s 14ms/step - loss: 0.7972 - accuracy: 0.0000e+00 - val_loss: 0.7960 - val_accuracy: 0.0000e+00\n",
      "Epoch 67/140\n",
      "59/59 [==============================] - 1s 14ms/step - loss: 0.7947 - accuracy: 0.0000e+00 - val_loss: 0.7936 - val_accuracy: 0.0000e+00\n",
      "Epoch 68/140\n",
      "59/59 [==============================] - 1s 15ms/step - loss: 0.7924 - accuracy: 0.0000e+00 - val_loss: 0.7913 - val_accuracy: 0.0000e+00\n",
      "Epoch 69/140\n",
      "59/59 [==============================] - 1s 16ms/step - loss: 0.7900 - accuracy: 0.0000e+00 - val_loss: 0.7890 - val_accuracy: 0.0000e+00\n",
      "Epoch 70/140\n",
      "59/59 [==============================] - 1s 13ms/step - loss: 0.7878 - accuracy: 0.0000e+00 - val_loss: 0.7868 - val_accuracy: 0.0000e+00\n",
      "Epoch 71/140\n",
      "59/59 [==============================] - 1s 16ms/step - loss: 0.7856 - accuracy: 0.0000e+00 - val_loss: 0.7846 - val_accuracy: 0.0000e+00\n",
      "Epoch 72/140\n",
      "59/59 [==============================] - 1s 23ms/step - loss: 0.7834 - accuracy: 0.0000e+00 - val_loss: 0.7824 - val_accuracy: 0.0000e+00\n",
      "Epoch 73/140\n",
      "59/59 [==============================] - 1s 19ms/step - loss: 0.7813 - accuracy: 0.0000e+00 - val_loss: 0.7804 - val_accuracy: 0.0000e+00\n",
      "Epoch 74/140\n",
      "59/59 [==============================] - 1s 15ms/step - loss: 0.7793 - accuracy: 0.0000e+00 - val_loss: 0.7783 - val_accuracy: 0.0000e+00\n",
      "Epoch 75/140\n",
      "59/59 [==============================] - 1s 14ms/step - loss: 0.7772 - accuracy: 0.0000e+00 - val_loss: 0.7764 - val_accuracy: 0.0000e+00\n",
      "Epoch 76/140\n",
      "59/59 [==============================] - 1s 15ms/step - loss: 0.7753 - accuracy: 0.0000e+00 - val_loss: 0.7744 - val_accuracy: 0.0000e+00\n",
      "Epoch 77/140\n",
      "59/59 [==============================] - 1s 15ms/step - loss: 0.7734 - accuracy: 0.0000e+00 - val_loss: 0.7725 - val_accuracy: 0.0000e+00\n",
      "Epoch 78/140\n",
      "59/59 [==============================] - 1s 16ms/step - loss: 0.7715 - accuracy: 0.0000e+00 - val_loss: 0.7707 - val_accuracy: 0.0000e+00\n",
      "Epoch 79/140\n",
      "59/59 [==============================] - 1s 16ms/step - loss: 0.7697 - accuracy: 0.0000e+00 - val_loss: 0.7689 - val_accuracy: 0.0000e+00\n",
      "Epoch 80/140\n",
      "59/59 [==============================] - 1s 14ms/step - loss: 0.7679 - accuracy: 0.0000e+00 - val_loss: 0.7671 - val_accuracy: 0.0000e+00\n",
      "Epoch 81/140\n",
      "59/59 [==============================] - 1s 14ms/step - loss: 0.7661 - accuracy: 0.0000e+00 - val_loss: 0.7654 - val_accuracy: 0.0000e+00\n",
      "Epoch 82/140\n",
      "59/59 [==============================] - 1s 16ms/step - loss: 0.7644 - accuracy: 0.0000e+00 - val_loss: 0.7637 - val_accuracy: 0.0000e+00\n",
      "Epoch 83/140\n",
      "59/59 [==============================] - 1s 16ms/step - loss: 0.7628 - accuracy: 0.0000e+00 - val_loss: 0.7621 - val_accuracy: 0.0000e+00\n",
      "Epoch 84/140\n",
      "59/59 [==============================] - 1s 16ms/step - loss: 0.7611 - accuracy: 0.0000e+00 - val_loss: 0.7604 - val_accuracy: 0.0000e+00\n",
      "Epoch 85/140\n",
      "59/59 [==============================] - 1s 16ms/step - loss: 0.7596 - accuracy: 0.0000e+00 - val_loss: 0.7589 - val_accuracy: 0.0000e+00\n",
      "Epoch 86/140\n",
      "59/59 [==============================] - 1s 14ms/step - loss: 0.7580 - accuracy: 0.0000e+00 - val_loss: 0.7574 - val_accuracy: 0.0000e+00\n",
      "Epoch 87/140\n",
      "59/59 [==============================] - 1s 16ms/step - loss: 0.7565 - accuracy: 0.0000e+00 - val_loss: 0.7559 - val_accuracy: 0.0000e+00\n",
      "Epoch 88/140\n",
      "59/59 [==============================] - 1s 16ms/step - loss: 0.7550 - accuracy: 0.0000e+00 - val_loss: 0.7544 - val_accuracy: 0.0000e+00\n",
      "Epoch 89/140\n",
      "59/59 [==============================] - 1s 16ms/step - loss: 0.7536 - accuracy: 0.0000e+00 - val_loss: 0.7530 - val_accuracy: 0.0000e+00\n",
      "Epoch 90/140\n",
      "59/59 [==============================] - 1s 16ms/step - loss: 0.7522 - accuracy: 0.0000e+00 - val_loss: 0.7516 - val_accuracy: 0.0000e+00\n",
      "Epoch 91/140\n",
      "59/59 [==============================] - 1s 14ms/step - loss: 0.7508 - accuracy: 0.0000e+00 - val_loss: 0.7502 - val_accuracy: 0.0000e+00\n",
      "Epoch 92/140\n",
      "59/59 [==============================] - 1s 16ms/step - loss: 0.7494 - accuracy: 0.0000e+00 - val_loss: 0.7489 - val_accuracy: 0.0000e+00\n",
      "Epoch 93/140\n",
      "59/59 [==============================] - 1s 14ms/step - loss: 0.7481 - accuracy: 0.0000e+00 - val_loss: 0.7476 - val_accuracy: 0.0000e+00\n",
      "Epoch 94/140\n",
      "59/59 [==============================] - 1s 16ms/step - loss: 0.7468 - accuracy: 0.0000e+00 - val_loss: 0.7463 - val_accuracy: 0.0000e+00\n",
      "Epoch 95/140\n",
      "59/59 [==============================] - 1s 13ms/step - loss: 0.7456 - accuracy: 0.0000e+00 - val_loss: 0.7451 - val_accuracy: 0.0000e+00\n",
      "Epoch 96/140\n",
      "59/59 [==============================] - 1s 14ms/step - loss: 0.7444 - accuracy: 0.0000e+00 - val_loss: 0.7439 - val_accuracy: 0.0000e+00\n",
      "Epoch 97/140\n",
      "59/59 [==============================] - 1s 16ms/step - loss: 0.7432 - accuracy: 0.0000e+00 - val_loss: 0.7427 - val_accuracy: 0.0000e+00\n",
      "Epoch 98/140\n",
      "59/59 [==============================] - 1s 24ms/step - loss: 0.7420 - accuracy: 0.0000e+00 - val_loss: 0.7415 - val_accuracy: 0.0000e+00\n",
      "Epoch 99/140\n",
      "59/59 [==============================] - 1s 16ms/step - loss: 0.7409 - accuracy: 0.0000e+00 - val_loss: 0.7404 - val_accuracy: 0.0000e+00\n",
      "Epoch 100/140\n",
      "59/59 [==============================] - 1s 16ms/step - loss: 0.7398 - accuracy: 0.0000e+00 - val_loss: 0.7393 - val_accuracy: 0.0000e+00\n",
      "Epoch 101/140\n",
      "59/59 [==============================] - 1s 16ms/step - loss: 0.7387 - accuracy: 0.0000e+00 - val_loss: 0.7382 - val_accuracy: 0.0000e+00\n",
      "Epoch 102/140\n",
      "59/59 [==============================] - 1s 16ms/step - loss: 0.7376 - accuracy: 0.0000e+00 - val_loss: 0.7372 - val_accuracy: 0.0000e+00\n",
      "Epoch 103/140\n",
      "59/59 [==============================] - 1s 16ms/step - loss: 0.7366 - accuracy: 0.0000e+00 - val_loss: 0.7362 - val_accuracy: 0.0000e+00\n",
      "Epoch 104/140\n",
      "59/59 [==============================] - 1s 14ms/step - loss: 0.7356 - accuracy: 0.0000e+00 - val_loss: 0.7352 - val_accuracy: 0.0000e+00\n",
      "Epoch 105/140\n",
      "59/59 [==============================] - 1s 16ms/step - loss: 0.7346 - accuracy: 0.0000e+00 - val_loss: 0.7342 - val_accuracy: 0.0000e+00\n",
      "Epoch 106/140\n",
      "59/59 [==============================] - 1s 16ms/step - loss: 0.7336 - accuracy: 0.0000e+00 - val_loss: 0.7332 - val_accuracy: 0.0000e+00\n",
      "Epoch 107/140\n",
      "59/59 [==============================] - 1s 14ms/step - loss: 0.7327 - accuracy: 0.0000e+00 - val_loss: 0.7323 - val_accuracy: 0.0000e+00\n",
      "Epoch 108/140\n",
      "59/59 [==============================] - 1s 24ms/step - loss: 0.7317 - accuracy: 0.0000e+00 - val_loss: 0.7314 - val_accuracy: 0.0000e+00\n",
      "Epoch 109/140\n",
      "59/59 [==============================] - 1s 16ms/step - loss: 0.7308 - accuracy: 0.0000e+00 - val_loss: 0.7305 - val_accuracy: 0.0000e+00\n",
      "Epoch 110/140\n",
      "59/59 [==============================] - 1s 16ms/step - loss: 0.7300 - accuracy: 0.0000e+00 - val_loss: 0.7296 - val_accuracy: 0.0000e+00\n",
      "Epoch 111/140\n",
      "59/59 [==============================] - 1s 16ms/step - loss: 0.7291 - accuracy: 0.0000e+00 - val_loss: 0.7288 - val_accuracy: 0.0000e+00\n",
      "Epoch 112/140\n",
      "59/59 [==============================] - 1s 14ms/step - loss: 0.7283 - accuracy: 0.0000e+00 - val_loss: 0.7279 - val_accuracy: 0.0000e+00\n",
      "Epoch 113/140\n",
      "59/59 [==============================] - 1s 14ms/step - loss: 0.7274 - accuracy: 0.0000e+00 - val_loss: 0.7271 - val_accuracy: 0.0000e+00\n",
      "Epoch 114/140\n",
      "59/59 [==============================] - 1s 16ms/step - loss: 0.7266 - accuracy: 0.0000e+00 - val_loss: 0.7263 - val_accuracy: 0.0000e+00\n",
      "Epoch 115/140\n",
      "59/59 [==============================] - 1s 16ms/step - loss: 0.7259 - accuracy: 0.0000e+00 - val_loss: 0.7256 - val_accuracy: 0.0000e+00\n",
      "Epoch 116/140\n",
      "59/59 [==============================] - 1s 16ms/step - loss: 0.7251 - accuracy: 0.0000e+00 - val_loss: 0.7248 - val_accuracy: 0.0000e+00\n",
      "Epoch 117/140\n",
      "59/59 [==============================] - 1s 16ms/step - loss: 0.7243 - accuracy: 0.0000e+00 - val_loss: 0.7241 - val_accuracy: 0.0000e+00\n",
      "Epoch 118/140\n",
      "59/59 [==============================] - 1s 16ms/step - loss: 0.7236 - accuracy: 0.0000e+00 - val_loss: 0.7234 - val_accuracy: 0.0000e+00\n",
      "Epoch 119/140\n",
      "59/59 [==============================] - 1s 16ms/step - loss: 0.7229 - accuracy: 0.0000e+00 - val_loss: 0.7227 - val_accuracy: 0.0000e+00\n",
      "Epoch 120/140\n",
      "59/59 [==============================] - 1s 16ms/step - loss: 0.7222 - accuracy: 0.0000e+00 - val_loss: 0.7220 - val_accuracy: 0.0000e+00\n",
      "Epoch 121/140\n",
      "59/59 [==============================] - 1s 16ms/step - loss: 0.7215 - accuracy: 0.0000e+00 - val_loss: 0.7213 - val_accuracy: 0.0000e+00\n",
      "Epoch 122/140\n",
      "59/59 [==============================] - 1s 16ms/step - loss: 0.7209 - accuracy: 0.0000e+00 - val_loss: 0.7206 - val_accuracy: 0.0000e+00\n",
      "Epoch 123/140\n",
      "59/59 [==============================] - 1s 14ms/step - loss: 0.7202 - accuracy: 0.0000e+00 - val_loss: 0.7200 - val_accuracy: 0.0000e+00\n",
      "Epoch 124/140\n",
      "59/59 [==============================] - 1s 14ms/step - loss: 0.7196 - accuracy: 0.0000e+00 - val_loss: 0.7194 - val_accuracy: 0.0000e+00\n",
      "Epoch 125/140\n",
      "59/59 [==============================] - 1s 16ms/step - loss: 0.7190 - accuracy: 0.0000e+00 - val_loss: 0.7188 - val_accuracy: 0.0000e+00\n",
      "Epoch 126/140\n",
      "59/59 [==============================] - 1s 14ms/step - loss: 0.7184 - accuracy: 0.0000e+00 - val_loss: 0.7182 - val_accuracy: 0.0000e+00\n",
      "Epoch 127/140\n",
      "59/59 [==============================] - 1s 16ms/step - loss: 0.7178 - accuracy: 0.0000e+00 - val_loss: 0.7176 - val_accuracy: 0.0000e+00\n",
      "Epoch 128/140\n",
      "59/59 [==============================] - 1s 14ms/step - loss: 0.7172 - accuracy: 0.0000e+00 - val_loss: 0.7170 - val_accuracy: 0.0000e+00\n",
      "Epoch 129/140\n",
      "59/59 [==============================] - 1s 14ms/step - loss: 0.7166 - accuracy: 0.0000e+00 - val_loss: 0.7165 - val_accuracy: 0.0000e+00\n",
      "Epoch 130/140\n",
      "59/59 [==============================] - 1s 14ms/step - loss: 0.7161 - accuracy: 0.0000e+00 - val_loss: 0.7159 - val_accuracy: 0.0000e+00\n",
      "Epoch 131/140\n",
      "59/59 [==============================] - 1s 13ms/step - loss: 0.7156 - accuracy: 0.0000e+00 - val_loss: 0.7154 - val_accuracy: 0.0000e+00\n",
      "Epoch 132/140\n",
      "59/59 [==============================] - 1s 13ms/step - loss: 0.7150 - accuracy: 0.0000e+00 - val_loss: 0.7149 - val_accuracy: 0.0000e+00\n",
      "Epoch 133/140\n",
      "59/59 [==============================] - 1s 13ms/step - loss: 0.7145 - accuracy: 0.0000e+00 - val_loss: 0.7144 - val_accuracy: 0.0000e+00\n",
      "Epoch 134/140\n",
      "59/59 [==============================] - 1s 13ms/step - loss: 0.7140 - accuracy: 0.0000e+00 - val_loss: 0.7139 - val_accuracy: 0.0000e+00\n",
      "Epoch 135/140\n",
      "59/59 [==============================] - 1s 14ms/step - loss: 0.7135 - accuracy: 0.0000e+00 - val_loss: 0.7134 - val_accuracy: 0.0000e+00\n",
      "Epoch 136/140\n",
      "59/59 [==============================] - 1s 16ms/step - loss: 0.7131 - accuracy: 0.0000e+00 - val_loss: 0.7129 - val_accuracy: 0.0000e+00\n",
      "Epoch 137/140\n",
      "59/59 [==============================] - 1s 14ms/step - loss: 0.7126 - accuracy: 0.0000e+00 - val_loss: 0.7125 - val_accuracy: 0.0000e+00\n",
      "Epoch 138/140\n",
      "59/59 [==============================] - 1s 13ms/step - loss: 0.7121 - accuracy: 0.0000e+00 - val_loss: 0.7120 - val_accuracy: 0.0000e+00\n",
      "Epoch 139/140\n",
      "59/59 [==============================] - 1s 13ms/step - loss: 0.7117 - accuracy: 0.0000e+00 - val_loss: 0.7116 - val_accuracy: 0.0000e+00\n",
      "Epoch 140/140\n",
      "59/59 [==============================] - 1s 15ms/step - loss: 0.7113 - accuracy: 0.0000e+00 - val_loss: 0.7112 - val_accuracy: 0.0000e+00\n"
     ]
    }
   ],
   "source": [
    "lambda2 = 0.01\n",
    "model = models.Sequential()\n",
    "model.add(layers.Dense(16, activation='relu',kernel_regularizer=regularizers.l2(lambda2), input_shape=(10000,)))\n",
    "model.add(layers.Dense(16, activation='relu',kernel_regularizer=regularizers.l2(lambda2) ))\n",
    "model.add(layers.Dense(1, activation='sigmoid'))\n",
    "model.compile(optimizer='sgd', loss='binary_crossentropy', metrics=[tf.keras.metrics.Accuracy()])\n",
    "\n",
    "history = model.fit(partial_x_train,\n",
    "partial_y_train, epochs=140, batch_size=256, validation_data=(x_val, y_val))"
   ]
  },
  {
   "cell_type": "code",
   "execution_count": 50,
   "metadata": {
    "colab": {
     "base_uri": "https://localhost:8080/",
     "height": 206
    },
    "id": "doxIfamv8iXY",
    "outputId": "fd1eea0f-8733-4638-c079-e241403558ba"
   },
   "outputs": [
    {
     "data": {
      "text/html": [
       "\n",
       "  <div id=\"df-feb65e88-3524-42fe-8cfe-0400c49a8028\">\n",
       "    <div class=\"colab-df-container\">\n",
       "      <div>\n",
       "<style scoped>\n",
       "    .dataframe tbody tr th:only-of-type {\n",
       "        vertical-align: middle;\n",
       "    }\n",
       "\n",
       "    .dataframe tbody tr th {\n",
       "        vertical-align: top;\n",
       "    }\n",
       "\n",
       "    .dataframe thead th {\n",
       "        text-align: right;\n",
       "    }\n",
       "</style>\n",
       "<table border=\"1\" class=\"dataframe\">\n",
       "  <thead>\n",
       "    <tr style=\"text-align: right;\">\n",
       "      <th></th>\n",
       "      <th>times_pregnant</th>\n",
       "      <th>glucose</th>\n",
       "      <th>blood_pressure</th>\n",
       "      <th>skin_thickness</th>\n",
       "      <th>serum_insulin</th>\n",
       "      <th>body_mass_index</th>\n",
       "      <th>pedigree</th>\n",
       "      <th>age</th>\n",
       "      <th>class</th>\n",
       "    </tr>\n",
       "  </thead>\n",
       "  <tbody>\n",
       "    <tr>\n",
       "      <th>0</th>\n",
       "      <td>6</td>\n",
       "      <td>148</td>\n",
       "      <td>72</td>\n",
       "      <td>35</td>\n",
       "      <td>0</td>\n",
       "      <td>33.6</td>\n",
       "      <td>0.627</td>\n",
       "      <td>50</td>\n",
       "      <td>1</td>\n",
       "    </tr>\n",
       "    <tr>\n",
       "      <th>1</th>\n",
       "      <td>1</td>\n",
       "      <td>85</td>\n",
       "      <td>66</td>\n",
       "      <td>29</td>\n",
       "      <td>0</td>\n",
       "      <td>26.6</td>\n",
       "      <td>0.351</td>\n",
       "      <td>31</td>\n",
       "      <td>0</td>\n",
       "    </tr>\n",
       "    <tr>\n",
       "      <th>2</th>\n",
       "      <td>8</td>\n",
       "      <td>183</td>\n",
       "      <td>64</td>\n",
       "      <td>0</td>\n",
       "      <td>0</td>\n",
       "      <td>23.3</td>\n",
       "      <td>0.672</td>\n",
       "      <td>32</td>\n",
       "      <td>1</td>\n",
       "    </tr>\n",
       "    <tr>\n",
       "      <th>3</th>\n",
       "      <td>1</td>\n",
       "      <td>89</td>\n",
       "      <td>66</td>\n",
       "      <td>23</td>\n",
       "      <td>94</td>\n",
       "      <td>28.1</td>\n",
       "      <td>0.167</td>\n",
       "      <td>21</td>\n",
       "      <td>0</td>\n",
       "    </tr>\n",
       "    <tr>\n",
       "      <th>4</th>\n",
       "      <td>0</td>\n",
       "      <td>137</td>\n",
       "      <td>40</td>\n",
       "      <td>35</td>\n",
       "      <td>168</td>\n",
       "      <td>43.1</td>\n",
       "      <td>2.288</td>\n",
       "      <td>33</td>\n",
       "      <td>1</td>\n",
       "    </tr>\n",
       "  </tbody>\n",
       "</table>\n",
       "</div>\n",
       "      <button class=\"colab-df-convert\" onclick=\"convertToInteractive('df-feb65e88-3524-42fe-8cfe-0400c49a8028')\"\n",
       "              title=\"Convert this dataframe to an interactive table.\"\n",
       "              style=\"display:none;\">\n",
       "        \n",
       "  <svg xmlns=\"http://www.w3.org/2000/svg\" height=\"24px\"viewBox=\"0 0 24 24\"\n",
       "       width=\"24px\">\n",
       "    <path d=\"M0 0h24v24H0V0z\" fill=\"none\"/>\n",
       "    <path d=\"M18.56 5.44l.94 2.06.94-2.06 2.06-.94-2.06-.94-.94-2.06-.94 2.06-2.06.94zm-11 1L8.5 8.5l.94-2.06 2.06-.94-2.06-.94L8.5 2.5l-.94 2.06-2.06.94zm10 10l.94 2.06.94-2.06 2.06-.94-2.06-.94-.94-2.06-.94 2.06-2.06.94z\"/><path d=\"M17.41 7.96l-1.37-1.37c-.4-.4-.92-.59-1.43-.59-.52 0-1.04.2-1.43.59L10.3 9.45l-7.72 7.72c-.78.78-.78 2.05 0 2.83L4 21.41c.39.39.9.59 1.41.59.51 0 1.02-.2 1.41-.59l7.78-7.78 2.81-2.81c.8-.78.8-2.07 0-2.86zM5.41 20L4 18.59l7.72-7.72 1.47 1.35L5.41 20z\"/>\n",
       "  </svg>\n",
       "      </button>\n",
       "      \n",
       "  <style>\n",
       "    .colab-df-container {\n",
       "      display:flex;\n",
       "      flex-wrap:wrap;\n",
       "      gap: 12px;\n",
       "    }\n",
       "\n",
       "    .colab-df-convert {\n",
       "      background-color: #E8F0FE;\n",
       "      border: none;\n",
       "      border-radius: 50%;\n",
       "      cursor: pointer;\n",
       "      display: none;\n",
       "      fill: #1967D2;\n",
       "      height: 32px;\n",
       "      padding: 0 0 0 0;\n",
       "      width: 32px;\n",
       "    }\n",
       "\n",
       "    .colab-df-convert:hover {\n",
       "      background-color: #E2EBFA;\n",
       "      box-shadow: 0px 1px 2px rgba(60, 64, 67, 0.3), 0px 1px 3px 1px rgba(60, 64, 67, 0.15);\n",
       "      fill: #174EA6;\n",
       "    }\n",
       "\n",
       "    [theme=dark] .colab-df-convert {\n",
       "      background-color: #3B4455;\n",
       "      fill: #D2E3FC;\n",
       "    }\n",
       "\n",
       "    [theme=dark] .colab-df-convert:hover {\n",
       "      background-color: #434B5C;\n",
       "      box-shadow: 0px 1px 3px 1px rgba(0, 0, 0, 0.15);\n",
       "      filter: drop-shadow(0px 1px 2px rgba(0, 0, 0, 0.3));\n",
       "      fill: #FFFFFF;\n",
       "    }\n",
       "  </style>\n",
       "\n",
       "      <script>\n",
       "        const buttonEl =\n",
       "          document.querySelector('#df-feb65e88-3524-42fe-8cfe-0400c49a8028 button.colab-df-convert');\n",
       "        buttonEl.style.display =\n",
       "          google.colab.kernel.accessAllowed ? 'block' : 'none';\n",
       "\n",
       "        async function convertToInteractive(key) {\n",
       "          const element = document.querySelector('#df-feb65e88-3524-42fe-8cfe-0400c49a8028');\n",
       "          const dataTable =\n",
       "            await google.colab.kernel.invokeFunction('convertToInteractive',\n",
       "                                                     [key], {});\n",
       "          if (!dataTable) return;\n",
       "\n",
       "          const docLinkHtml = 'Like what you see? Visit the ' +\n",
       "            '<a target=\"_blank\" href=https://colab.research.google.com/notebooks/data_table.ipynb>data table notebook</a>'\n",
       "            + ' to learn more about interactive tables.';\n",
       "          element.innerHTML = '';\n",
       "          dataTable['output_type'] = 'display_data';\n",
       "          await google.colab.output.renderOutput(dataTable, element);\n",
       "          const docLink = document.createElement('div');\n",
       "          docLink.innerHTML = docLinkHtml;\n",
       "          element.appendChild(docLink);\n",
       "        }\n",
       "      </script>\n",
       "    </div>\n",
       "  </div>\n",
       "  "
      ],
      "text/plain": [
       "   times_pregnant  glucose  blood_pressure  skin_thickness  serum_insulin  \\\n",
       "0               6      148              72              35              0   \n",
       "1               1       85              66              29              0   \n",
       "2               8      183              64               0              0   \n",
       "3               1       89              66              23             94   \n",
       "4               0      137              40              35            168   \n",
       "\n",
       "   body_mass_index  pedigree  age  class  \n",
       "0             33.6     0.627   50      1  \n",
       "1             26.6     0.351   31      0  \n",
       "2             23.3     0.672   32      1  \n",
       "3             28.1     0.167   21      0  \n",
       "4             43.1     2.288   33      1  "
      ]
     },
     "execution_count": 50,
     "metadata": {},
     "output_type": "execute_result"
    }
   ],
   "source": [
    "#import data\n",
    "pima_df = pd.read_csv(\"pima-indians-diabetes.csv\",header=0)\n",
    "#remove space after Gluccose header and make lowercase (personal preference)\n",
    "pima_df.columns = pima_df.columns.str.replace(' ', '')\n",
    "pima_df.columns = pima_df.columns.str.lower()\n",
    "pima_df.head()"
   ]
  },
  {
   "cell_type": "code",
   "execution_count": 52,
   "metadata": {
    "colab": {
     "base_uri": "https://localhost:8080/",
     "height": 895
    },
    "id": "GOtVFD_588mK",
    "outputId": "07dc1e9b-62d0-402c-fea0-975e4c08f1a8"
   },
   "outputs": [
    {
     "data": {
      "text/plain": [
       "array([[<matplotlib.axes._subplots.AxesSubplot object at 0x7fefe76a5ad0>,\n",
       "        <matplotlib.axes._subplots.AxesSubplot object at 0x7fefe6f73bd0>,\n",
       "        <matplotlib.axes._subplots.AxesSubplot object at 0x7fefe59cfd90>],\n",
       "       [<matplotlib.axes._subplots.AxesSubplot object at 0x7fefe87663d0>,\n",
       "        <matplotlib.axes._subplots.AxesSubplot object at 0x7fefe788e9d0>,\n",
       "        <matplotlib.axes._subplots.AxesSubplot object at 0x7fefe8f3d410>],\n",
       "       [<matplotlib.axes._subplots.AxesSubplot object at 0x7fefe8e30990>,\n",
       "        <matplotlib.axes._subplots.AxesSubplot object at 0x7fefe8c64dd0>,\n",
       "        <matplotlib.axes._subplots.AxesSubplot object at 0x7fefe8c64e10>]],\n",
       "      dtype=object)"
      ]
     },
     "execution_count": 52,
     "metadata": {},
     "output_type": "execute_result"
    },
    {
     "data": {
      "image/png": "[encoded data removed]",
      "text/plain": [
       "<Figure size 864x864 with 9 Axes>"
      ]
     },
     "metadata": {
      "needs_background": "light"
     },
     "output_type": "display_data"
    }
   ],
   "source": [
    "pima_df.hist(figsize=(12, 12))"
   ]
  },
  {
   "cell_type": "code",
   "execution_count": 53,
   "metadata": {
    "id": "N5Vtug3N9Xdk"
   },
   "outputs": [],
   "source": [
    "#replace 0 with nulls in glucose, blood_pressure, and BMI so we can mean impute easily\n",
    "pima_df[['glucose','blood_pressure','body_mass_index']] = \\\n",
    "pima_df[['glucose','blood_pressure','body_mass_index']].replace(0,np.nan)\n",
    "\n",
    "# fetch feature column names\n",
    "x_columns = pima_df.columns[0:8]"
   ]
  },
  {
   "cell_type": "code",
   "execution_count": 54,
   "metadata": {
    "id": "t1O5j8vB9mrh"
   },
   "outputs": [],
   "source": [
    "# split data into inputs, features (x) and output,labels (y)\n",
    "# the first 8 columns represent features and the last column represent labels\n",
    "x = pima_df.iloc[:,0:8]\n",
    "y = pima_df.iloc[:,8]"
   ]
  },
  {
   "cell_type": "code",
   "execution_count": 55,
   "metadata": {
    "id": "PTq6xLEP9-Ss"
   },
   "outputs": [],
   "source": [
    "# split into training and validation data using sklearn.model_selection.train_test_split()\n",
    "# validation data are 20% of all data.\n",
    "x_train,x_val,y_train,y_val = train_test_split(x,y,test_size=.2,random_state=7,stratify=y)\n",
    "\n",
    "# We use sklearn.impute.SimpleImputer class to replace null values with averages\n",
    "imp = SimpleImputer(strategy='mean')\n",
    "x_train = pd.DataFrame(imp.fit_transform(x_train),columns = x_columns)\n",
    "x_val = pd.DataFrame(imp.transform(x_val),columns = x_columns)"
   ]
  },
  {
   "cell_type": "code",
   "execution_count": 56,
   "metadata": {
    "colab": {
     "base_uri": "https://localhost:8080/",
     "height": 716
    },
    "id": "HOdOj8_e-AIU",
    "outputId": "f5d60cc0-70b3-4931-d823-467b58b0d17e"
   },
   "outputs": [
    {
     "data": {
      "image/png": "[encoded data removed]",
      "text/plain": [
       "<Figure size 864x864 with 9 Axes>"
      ]
     },
     "metadata": {
      "needs_background": "light"
     },
     "output_type": "display_data"
    }
   ],
   "source": [
    "# examine modified data. Outliers with zero values shoudl disapear\n",
    "x_train.hist(figsize=(12, 12));"
   ]
  },
  {
   "cell_type": "code",
   "execution_count": 58,
   "metadata": {
    "colab": {
     "base_uri": "https://localhost:8080/",
     "height": 298
    },
    "id": "qaW6aWbd-Qib",
    "outputId": "8074f716-52a5-44d7-b3ee-c7e7028541bf"
   },
   "outputs": [
    {
     "data": {
      "image/png": "[encoded data removed]",
      "text/plain": [
       "<Figure size 432x288 with 2 Axes>"
      ]
     },
     "metadata": {},
     "output_type": "display_data"
    }
   ],
   "source": [
    "corr = pima_df.corr().round(1)\n",
    "sns.set(font_scale=0.8)\n",
    "sns.heatmap(corr, annot=True, cmap=\"Blues\",\n",
    "        xticklabels=pima_df.columns.values,\n",
    "        yticklabels=pima_df.columns.values)\n",
    "plt.title('Feature Correlation', fontsize=14)\n",
    "plt.tight_layout()"
   ]
  },
  {
   "cell_type": "code",
   "execution_count": 59,
   "metadata": {
    "colab": {
     "base_uri": "https://localhost:8080/",
     "height": 716
    },
    "id": "SiDwoxCp-eMY",
    "outputId": "a42b4a10-14cf-4605-cc25-6d06effd221f"
   },
   "outputs": [
    {
     "data": {
      "image/png": "[encoded data removed]",
      "text/plain": [
       "<Figure size 864x864 with 9 Axes>"
      ]
     },
     "metadata": {},
     "output_type": "display_data"
    }
   ],
   "source": [
    "sc = StandardScaler()\n",
    "# With standardized data, we also create new panda DataFrames with \n",
    "x_train = pd.DataFrame(sc.fit_transform(x_train),columns = x_columns)\n",
    "x_val = pd.DataFrame(sc.transform(x_val),columns = x_columns)\n",
    "x_train.hist(figsize=(12, 12));"
   ]
  },
  {
   "cell_type": "code",
   "execution_count": 61,
   "metadata": {
    "colab": {
     "base_uri": "https://localhost:8080/"
    },
    "id": "yWiCwQjIVjsX",
    "outputId": "1ff0c114-0a57-4b56-d86c-0e3c7d4c1691"
   },
   "outputs": [
    {
     "name": "stdout",
     "output_type": "stream",
     "text": [
      "Epoch 15: early stopping\n"
     ]
    }
   ],
   "source": [
    "# The objective of EarlyStopping callback is to Stop training when a monitored metric \n",
    "# has stopped improving.\n",
    "# patience: Number of epochs with no improvement after which training will be stopped.\n",
    "esm = EarlyStopping(monitor='val_loss', patience=5, min_delta=0.01, verbose=1)\n",
    "\n",
    "# create model\n",
    "model = Sequential()\n",
    "model.add(layers.Dense(12, input_dim=8, activation='relu'))\n",
    "model.add(layers.Dense(8, activation='relu' ))\n",
    "model.add(layers.Dense(1, activation='sigmoid'))\n",
    "\n",
    "# Compile model\n",
    "model.compile(loss='binary_crossentropy', optimizer='adam', metrics=['accuracy'])\n",
    "\n",
    "# Train the model by invoking fit() method. Note that we are passing training data and\n",
    "# validation data. Object history will record the history of the training process.\n",
    "history = model.fit(x_train.values, y_train.values, validation_data = \\\n",
    "(x_val.values, y_val.values), epochs=200, callbacks=[esm], batch_size=10, verbose=0)\n"
   ]
  },
  {
   "cell_type": "code",
   "execution_count": 62,
   "metadata": {
    "id": "bkQsyLWk-0uf"
   },
   "outputs": [],
   "source": [
    "y_train_pred = (model.predict(x_train) > 0.5).astype(\"int32\")"
   ]
  },
  {
   "cell_type": "code",
   "execution_count": 64,
   "metadata": {
    "id": "qmFp_8uD_qCl"
   },
   "outputs": [],
   "source": [
    "cf_matrix = confusion_matrix(y_train,y_train_pred)"
   ]
  },
  {
   "cell_type": "code",
   "execution_count": 63,
   "metadata": {
    "colab": {
     "base_uri": "https://localhost:8080/"
    },
    "id": "udMnhYFR-60W",
    "outputId": "c6a9573f-c52d-4089-8b81-84ee56bad10a"
   },
   "outputs": [
    {
     "name": "stdout",
     "output_type": "stream",
     "text": [
      "[[360  40]\n",
      " [ 90 124]]\n",
      "accuracy:  0.7882736156351792\n",
      "precision:  0.7560975609756098\n",
      "recall:  0.5794392523364486\n"
     ]
    }
   ],
   "source": [
    "print(confusion_matrix(y_train,y_train_pred))\n",
    "print('accuracy: ', accuracy_score(y_train,y_train_pred))\n",
    "print('precision: ', precision_score(y_train,y_train_pred))\n",
    "print('recall: ', recall_score(y_train,y_train_pred))"
   ]
  },
  {
   "cell_type": "code",
   "execution_count": 65,
   "metadata": {
    "colab": {
     "base_uri": "https://localhost:8080/",
     "height": 285
    },
    "id": "DkmeY_pG_a_R",
    "outputId": "6cda806a-57be-4293-ae82-6d0ef18b878a"
   },
   "outputs": [
    {
     "data": {
      "text/plain": [
       "<matplotlib.axes._subplots.AxesSubplot at 0x7fefe6f76a50>"
      ]
     },
     "execution_count": 65,
     "metadata": {},
     "output_type": "execute_result"
    },
    {
     "data": {
      "image/png": "[encoded data removed]",
      "text/plain": [
       "<Figure size 432x288 with 2 Axes>"
      ]
     },
     "metadata": {},
     "output_type": "display_data"
    }
   ],
   "source": [
    "import seaborn as sns\n",
    "sns.heatmap(cf_matrix, annot=True)"
   ]
  },
  {
   "cell_type": "code",
   "execution_count": 66,
   "metadata": {
    "colab": {
     "base_uri": "https://localhost:8080/",
     "height": 285
    },
    "id": "j0y1eJdh_av_",
    "outputId": "b2b868a8-3b2f-40be-9024-3f0540628f25"
   },
   "outputs": [
    {
     "data": {
      "text/plain": [
       "<matplotlib.axes._subplots.AxesSubplot at 0x7fefe6f6e5d0>"
      ]
     },
     "execution_count": 66,
     "metadata": {},
     "output_type": "execute_result"
    },
    {
     "data": {
      "image/png": "[encoded data removed]",
      "text/plain": [
       "<Figure size 432x288 with 2 Axes>"
      ]
     },
     "metadata": {},
     "output_type": "display_data"
    }
   ],
   "source": [
    "sns.heatmap(cf_matrix/np.sum(cf_matrix), annot=True, \n",
    "            fmt='.2%', cmap='Blues')"
   ]
  },
  {
   "cell_type": "code",
   "execution_count": 69,
   "metadata": {
    "colab": {
     "base_uri": "https://localhost:8080/",
     "height": 285
    },
    "id": "SHMlNhCm_abr",
    "outputId": "5732c4a7-cb32-4213-9531-01c3316e9f1d"
   },
   "outputs": [
    {
     "data": {
      "text/plain": [
       "<matplotlib.axes._subplots.AxesSubplot at 0x7fefe7727490>"
      ]
     },
     "execution_count": 69,
     "metadata": {},
     "output_type": "execute_result"
    },
    {
     "data": {
      "image/png": "[encoded data removed]",
      "text/plain": [
       "<Figure size 432x288 with 2 Axes>"
      ]
     },
     "metadata": {},
     "output_type": "display_data"
    }
   ],
   "source": [
    "labels = ['True Neg','False Pos','False Neg','True Pos']\n",
    "labels = np.asarray(labels).reshape(2,2)\n",
    "sns.heatmap(cf_matrix, annot=labels, fmt='', cmap='Blues')"
   ]
  },
  {
   "cell_type": "code",
   "execution_count": 71,
   "metadata": {
    "colab": {
     "base_uri": "https://localhost:8080/",
     "height": 285
    },
    "id": "UbN2vrciBKPU",
    "outputId": "8c1d10ab-3965-4f9b-c9f8-663402cbc776"
   },
   "outputs": [
    {
     "data": {
      "text/plain": [
       "<matplotlib.axes._subplots.AxesSubplot at 0x7fefe76542d0>"
      ]
     },
     "execution_count": 71,
     "metadata": {},
     "output_type": "execute_result"
    },
    {
     "data": {
      "image/png": "[encoded data removed]",
      "text/plain": [
       "<Figure size 432x288 with 2 Axes>"
      ]
     },
     "metadata": {},
     "output_type": "display_data"
    }
   ],
   "source": [
    "group_names = ['True Neg','False Pos','False Neg','True Pos']\n",
    "group_counts = ['{0:0.0f}'.format(value) for value in\n",
    "                cf_matrix.flatten()]\n",
    "group_percentages = ['{0:.2%}'.format(value) for value in\n",
    "                     cf_matrix.flatten()/np.sum(cf_matrix)]\n",
    "labels = [f'{v1}\\n{v2}\\n{v3}' for v1, v2, v3 in\n",
    "          zip(group_names,group_counts,group_percentages)]\n",
    "labels = np.asarray(labels).reshape(2,2)\n",
    "sns.heatmap(cf_matrix, annot=labels, fmt='', cmap='Blues')"
   ]
  },
  {
   "cell_type": "markdown",
   "metadata": {
    "id": "jGN4Eir6VjNF"
   },
   "source": []
  },
  {
   "cell_type": "code",
   "execution_count": 75,
   "metadata": {
    "colab": {
     "base_uri": "https://localhost:8080/",
     "height": 206
    },
    "id": "lrU97M-yVhlA",
    "outputId": "19acd6ac-14a4-4c0f-f51c-443a9498fee0"
   },
   "outputs": [
    {
     "data": {
      "text/html": [
       "\n",
       "  <div id=\"df-cb7d79d3-f82b-4ac1-9d44-d56f1275a3be\">\n",
       "    <div class=\"colab-df-container\">\n",
       "      <div>\n",
       "<style scoped>\n",
       "    .dataframe tbody tr th:only-of-type {\n",
       "        vertical-align: middle;\n",
       "    }\n",
       "\n",
       "    .dataframe tbody tr th {\n",
       "        vertical-align: top;\n",
       "    }\n",
       "\n",
       "    .dataframe thead th {\n",
       "        text-align: right;\n",
       "    }\n",
       "</style>\n",
       "<table border=\"1\" class=\"dataframe\">\n",
       "  <thead>\n",
       "    <tr style=\"text-align: right;\">\n",
       "      <th></th>\n",
       "      <th>rating</th>\n",
       "      <th>movie</th>\n",
       "      <th>review</th>\n",
       "    </tr>\n",
       "  </thead>\n",
       "  <tbody>\n",
       "    <tr>\n",
       "      <th>0</th>\n",
       "      <td>-0.75</td>\n",
       "      <td>The Rookies</td>\n",
       "      <td>\"There's such passion behind this terrible scr...</td>\n",
       "    </tr>\n",
       "    <tr>\n",
       "      <th>1</th>\n",
       "      <td>-1.00</td>\n",
       "      <td>What's Love Got To Do With It?</td>\n",
       "      <td>\"The two leads turn in powerful performances.\"</td>\n",
       "    </tr>\n",
       "    <tr>\n",
       "      <th>2</th>\n",
       "      <td>0.25</td>\n",
       "      <td>Vanquish</td>\n",
       "      <td>\"A dud of a movie.\"</td>\n",
       "    </tr>\n",
       "    <tr>\n",
       "      <th>3</th>\n",
       "      <td>-1.00</td>\n",
       "      <td>What's Love Got To Do With It?</td>\n",
       "      <td>\"As an actor's showcase, the film is a dream.\"</td>\n",
       "    </tr>\n",
       "    <tr>\n",
       "      <th>4</th>\n",
       "      <td>-0.75</td>\n",
       "      <td>The Banishing</td>\n",
       "      <td>\"It's got some good scares. It's one of those ...</td>\n",
       "    </tr>\n",
       "  </tbody>\n",
       "</table>\n",
       "</div>\n",
       "      <button class=\"colab-df-convert\" onclick=\"convertToInteractive('df-cb7d79d3-f82b-4ac1-9d44-d56f1275a3be')\"\n",
       "              title=\"Convert this dataframe to an interactive table.\"\n",
       "              style=\"display:none;\">\n",
       "        \n",
       "  <svg xmlns=\"http://www.w3.org/2000/svg\" height=\"24px\"viewBox=\"0 0 24 24\"\n",
       "       width=\"24px\">\n",
       "    <path d=\"M0 0h24v24H0V0z\" fill=\"none\"/>\n",
       "    <path d=\"M18.56 5.44l.94 2.06.94-2.06 2.06-.94-2.06-.94-.94-2.06-.94 2.06-2.06.94zm-11 1L8.5 8.5l.94-2.06 2.06-.94-2.06-.94L8.5 2.5l-.94 2.06-2.06.94zm10 10l.94 2.06.94-2.06 2.06-.94-2.06-.94-.94-2.06-.94 2.06-2.06.94z\"/><path d=\"M17.41 7.96l-1.37-1.37c-.4-.4-.92-.59-1.43-.59-.52 0-1.04.2-1.43.59L10.3 9.45l-7.72 7.72c-.78.78-.78 2.05 0 2.83L4 21.41c.39.39.9.59 1.41.59.51 0 1.02-.2 1.41-.59l7.78-7.78 2.81-2.81c.8-.78.8-2.07 0-2.86zM5.41 20L4 18.59l7.72-7.72 1.47 1.35L5.41 20z\"/>\n",
       "  </svg>\n",
       "      </button>\n",
       "      \n",
       "  <style>\n",
       "    .colab-df-container {\n",
       "      display:flex;\n",
       "      flex-wrap:wrap;\n",
       "      gap: 12px;\n",
       "    }\n",
       "\n",
       "    .colab-df-convert {\n",
       "      background-color: #E8F0FE;\n",
       "      border: none;\n",
       "      border-radius: 50%;\n",
       "      cursor: pointer;\n",
       "      display: none;\n",
       "      fill: #1967D2;\n",
       "      height: 32px;\n",
       "      padding: 0 0 0 0;\n",
       "      width: 32px;\n",
       "    }\n",
       "\n",
       "    .colab-df-convert:hover {\n",
       "      background-color: #E2EBFA;\n",
       "      box-shadow: 0px 1px 2px rgba(60, 64, 67, 0.3), 0px 1px 3px 1px rgba(60, 64, 67, 0.15);\n",
       "      fill: #174EA6;\n",
       "    }\n",
       "\n",
       "    [theme=dark] .colab-df-convert {\n",
       "      background-color: #3B4455;\n",
       "      fill: #D2E3FC;\n",
       "    }\n",
       "\n",
       "    [theme=dark] .colab-df-convert:hover {\n",
       "      background-color: #434B5C;\n",
       "      box-shadow: 0px 1px 3px 1px rgba(0, 0, 0, 0.15);\n",
       "      filter: drop-shadow(0px 1px 2px rgba(0, 0, 0, 0.3));\n",
       "      fill: #FFFFFF;\n",
       "    }\n",
       "  </style>\n",
       "\n",
       "      <script>\n",
       "        const buttonEl =\n",
       "          document.querySelector('#df-cb7d79d3-f82b-4ac1-9d44-d56f1275a3be button.colab-df-convert');\n",
       "        buttonEl.style.display =\n",
       "          google.colab.kernel.accessAllowed ? 'block' : 'none';\n",
       "\n",
       "        async function convertToInteractive(key) {\n",
       "          const element = document.querySelector('#df-cb7d79d3-f82b-4ac1-9d44-d56f1275a3be');\n",
       "          const dataTable =\n",
       "            await google.colab.kernel.invokeFunction('convertToInteractive',\n",
       "                                                     [key], {});\n",
       "          if (!dataTable) return;\n",
       "\n",
       "          const docLinkHtml = 'Like what you see? Visit the ' +\n",
       "            '<a target=\"_blank\" href=https://colab.research.google.com/notebooks/data_table.ipynb>data table notebook</a>'\n",
       "            + ' to learn more about interactive tables.';\n",
       "          element.innerHTML = '';\n",
       "          dataTable['output_type'] = 'display_data';\n",
       "          await google.colab.output.renderOutput(dataTable, element);\n",
       "          const docLink = document.createElement('div');\n",
       "          docLink.innerHTML = docLinkHtml;\n",
       "          element.appendChild(docLink);\n",
       "        }\n",
       "      </script>\n",
       "    </div>\n",
       "  </div>\n",
       "  "
      ],
      "text/plain": [
       "   rating                           movie  \\\n",
       "0   -0.75                     The Rookies   \n",
       "1   -1.00  What's Love Got To Do With It?   \n",
       "2    0.25                        Vanquish   \n",
       "3   -1.00  What's Love Got To Do With It?   \n",
       "4   -0.75                   The Banishing   \n",
       "\n",
       "                                              review  \n",
       "0  \"There's such passion behind this terrible scr...  \n",
       "1     \"The two leads turn in powerful performances.\"  \n",
       "2                                \"A dud of a movie.\"  \n",
       "3     \"As an actor's showcase, the film is a dream.\"  \n",
       "4  \"It's got some good scares. It's one of those ...  "
      ]
     },
     "execution_count": 75,
     "metadata": {},
     "output_type": "execute_result"
    }
   ],
   "source": [
    "reviews_df = pd.read_excel('The_latest_reviews.xlsx', skiprows=[0])\n",
    "reviews_df.columns = ['rating', 'movie', 'review']\n",
    "reviews_df.head()"
   ]
  },
  {
   "cell_type": "code",
   "execution_count": null,
   "metadata": {
    "id": "KwLf0xWoCxzh"
   },
   "outputs": [],
   "source": []
  }
 ],
 "metadata": {
  "colab": {
   "collapsed_sections": [],
   "name": "OGarroFelicia12.ipynb",
   "provenance": []
  },
  "kernelspec": {
   "display_name": "Python 3",
   "language": "python",
   "name": "python3"
  },
  "language_info": {
   "codemirror_mode": {
    "name": "ipython",
    "version": 3
   },
   "file_extension": ".py",
   "mimetype": "text/x-python",
   "name": "python",
   "nbconvert_exporter": "python",
   "pygments_lexer": "ipython3",
   "version": "3.9.6"
  }
 },
 "nbformat": 4,
 "nbformat_minor": 1
}
