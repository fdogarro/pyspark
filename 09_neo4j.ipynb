{
 "cells": [
  {
   "cell_type": "markdown",
   "id": "b3e8a79b",
   "metadata": {},
   "source": [
    "#### Create graph with three nodes\n",
    "\n",
    "```\n",
    "CREATE (t:Teacher{name: 'Ms. Higgins'})\n",
    "CREATE (p1:Pupil{name: 'Mike', born: 'March 27, 2010'})\n",
    "CREATE (p2:Pupil{name: 'Mary', born: 'January 7, 2010'})\n",
    "```\n",
    "\n",
    "#### Create Teacher's Pet Relationship\n",
    "\n",
    "```\n",
    "MATCH (p:Pupil), (t:Teacher)\n",
    "WHERE p.name = 'Mary' AND t.name = 'Ms. Higgins'\n",
    "CREATE (p)-[tp:TEACHERS_PET_OF]->(t)\n",
    "```\n",
    "\n",
    "#### Create Relationship bt Teacher and Students\n",
    "\n",
    "```\n",
    "MATCH (p:Pupil), (t:Teacher)\n",
    "CREATE (t)-[e:EDUCATES]->(p)\n",
    "```\n",
    "\n",
    "#### Return Graph\n",
    "\n",
    "``` MATCH (p:Pupil), (t:Teacher)\n",
    "RETURN p, t```"
   ]
  },
  {
   "cell_type": "markdown",
   "id": "d76d4759",
   "metadata": {},
   "source": [
    "#### Query for students who are teachers pets\n",
    "\n",
    "```\n",
    "MATCH (p)-[tp:TEACHERS_PET_OF]->(t)\n",
    "RETURN p\n",
    "```\n",
    "\n",
    "#### Delete students who are not teacher's pets\n",
    "\n",
    "```\n",
    "MATCH (t:Teacher)-[r:EDUCATES]-(p:Pupil)\n",
    "WHERE p.name = 'Mike'\n",
    "DELETE r\n",
    "```\n",
    "```\n",
    "MATCH (p:Pupil)\n",
    "WHERE NOT (p)-[:TEACHERS_PET_OF]->()\n",
    "DELETE p\n",
    "```\n",
    "\n",
    "\n",
    "![title](remaining-school.png)\n"
   ]
  },
  {
   "cell_type": "markdown",
   "id": "50f3f02a",
   "metadata": {},
   "source": [
    "![title](movie-db.png)"
   ]
  },
  {
   "cell_type": "markdown",
   "id": "c9f4fc36",
   "metadata": {},
   "source": [
    "After loading the attached file \"create_movies_db.cypher\" I was able to determine that there are 253 relationships and 6 types. Below is a screenshot detailing the different relationships."
   ]
  },
  {
   "cell_type": "markdown",
   "id": "a59f6e86",
   "metadata": {},
   "source": [
    "![title](relationships-movie.png)"
   ]
  },
  {
   "cell_type": "markdown",
   "id": "2de6c55b",
   "metadata": {},
   "source": [
    "### Confirm number of relationships for node with several relationships\n",
    "\n",
    "```\n",
    "MATCH (p:Person {name:'Tom Hanks'})-[r]-()\n",
    "RETURN r, size((p)-->()) AS count\n",
    "```\n",
    "\n",
    "### Select relationships for movie label for each node in descending order\n",
    "\n",
    "```\n",
    "MATCH (m:Movie)-[r]-(b)\n",
    "RETURN m.title AS Title, count(r) AS count\n",
    "ORDER by count DESC\n",
    "```"
   ]
  },
  {
   "cell_type": "code",
   "execution_count": 5,
   "id": "e48461d2",
   "metadata": {},
   "outputs": [
    {
     "name": "stdout",
     "output_type": "stream",
     "text": [
      "[<Record m=<Node id=187 labels=frozenset({'Movie'}) properties={'title': 'John Wick', 'released': 2014}> keanu=<Node id=188 labels=frozenset({'Person'}) properties={'born': 1964, 'name': 'Keanu Reeves'}> a1=<Node id=191 labels=frozenset({'Person'}) properties={'name': 'William Dafoe'}> a2=<Node id=192 labels=frozenset({'Person'}) properties={'name': 'Michael Nyquist'}> d1=<Node id=189 labels=frozenset({'Person'}) properties={'name': 'Chad Stahelski'}> d2=<Node id=190 labels=frozenset({'Person'}) properties={'name': 'David Leitch'}>>]\n"
     ]
    }
   ],
   "source": [
    "#Add John Wick movie, co-stars and directors to graph db\n",
    "\n",
    "from neo4j import GraphDatabase\n",
    "\n",
    "neo_conn = GraphDatabase.driver(uri = 'bolt://localhost:7687', auth = ('neo4j', 'test'))\n",
    "neo_session = neo_conn.session()\n",
    "\n",
    "# execute query\n",
    "query = '''\n",
    "CREATE (m:Movie { title:\"John Wick\",released:2014 })\n",
    "CREATE (keanu:Person { name:\"Keanu Reeves\", born:1964 })\n",
    "CREATE (keanu)-[:ACTED_IN { roles: ['John Wick']}] ->(m)\n",
    "CREATE (d1:Person { name:\"Chad Stahelski\"})-[di1:DIRECTED]->(m)\n",
    "CREATE (d2:Person { name:\"David Leitch\"})-[di2:DIRECTED]->(m)\n",
    "CREATE (a1:Person { name:\"William Dafoe\"})\n",
    "CREATE (a1)-[:ACTED_IN { roles: ['John Wick']}] ->(m)\n",
    "CREATE (a2:Person { name:\"Michael Nyquist\"})\n",
    "CREATE (a2)-[:ACTED_IN { roles: ['John Wick']}] ->(m)\n",
    "RETURN m,keanu,a1,a2, d1, d2;\n",
    "'''\n",
    "executed_query = neo_session.run(query)\n",
    "\n",
    "# convert to list for printing\n",
    "result = list(executed_query)\n",
    "print(result)"
   ]
  },
  {
   "cell_type": "markdown",
   "id": "36ff828d",
   "metadata": {},
   "source": [
    "### Query for all Keanu Reeves movies and co-stars\n",
    "\n",
    "```\n",
    "MATCH (m:Movie)<-[:ACTED_IN]-(p:Person)\n",
    "RETURN m.title AS movie, collect(DISTINCT p.name) AS cast, count(*) AS \n",
    "actors;\n",
    "```"
   ]
  },
  {
   "cell_type": "markdown",
   "id": "9a994718",
   "metadata": {},
   "source": [
    "![title](text-report.png)"
   ]
  },
  {
   "cell_type": "markdown",
   "id": "556e3576",
   "metadata": {},
   "source": [
    "#### Create list of actors playing in movies which Keanu Reeves played"
   ]
  },
  {
   "cell_type": "code",
   "execution_count": 7,
   "id": "5077b863",
   "metadata": {},
   "outputs": [
    {
     "name": "stdout",
     "output_type": "stream",
     "text": [
      "[<Record p=<Node id=0 labels=frozenset({'Person'}) properties={'born': 1964, 'name': 'Keanu Reeves'}>>, <Record p=<Node id=2 labels=frozenset({'Person'}) properties={'born': 1967, 'name': 'Carrie-Anne Moss'}>>, <Record p=<Node id=3 labels=frozenset({'Person'}) properties={'born': 1961, 'name': 'Laurence Fishburne'}>>, <Record p=<Node id=4 labels=frozenset({'Person'}) properties={'born': 1960, 'name': 'Hugo Weaving'}>>, <Record p=<Node id=5 labels=frozenset({'Person'}) properties={'born': 1967, 'name': 'Lilly Wachowski'}>>, <Record p=<Node id=6 labels=frozenset({'Person'}) properties={'born': 1965, 'name': 'Lana Wachowski'}>>, <Record p=<Node id=7 labels=frozenset({'Person'}) properties={'born': 1952, 'name': 'Joel Silver'}>>, <Record p=<Node id=8 labels=frozenset({'Person'}) properties={'born': 1978, 'name': 'Emil Eifrem'}>>, <Record p=<Node id=12 labels=frozenset({'Person'}) properties={'born': 1975, 'name': 'Charlize Theron'}>>, <Record p=<Node id=13 labels=frozenset({'Person'}) properties={'born': 1940, 'name': 'Al Pacino'}>>, <Record p=<Node id=14 labels=frozenset({'Person'}) properties={'born': 1944, 'name': 'Taylor Hackford'}>>, <Record p=<Node id=16 labels=frozenset({'Person'}) properties={'born': 1962, 'name': 'Tom Cruise'}>>, <Record p=<Node id=17 labels=frozenset({'Person'}) properties={'born': 1937, 'name': 'Jack Nicholson'}>>, <Record p=<Node id=18 labels=frozenset({'Person'}) properties={'born': 1962, 'name': 'Demi Moore'}>>, <Record p=<Node id=19 labels=frozenset({'Person'}) properties={'born': 1958, 'name': 'Kevin Bacon'}>>, <Record p=<Node id=20 labels=frozenset({'Person'}) properties={'born': 1966, 'name': 'Kiefer Sutherland'}>>, <Record p=<Node id=21 labels=frozenset({'Person'}) properties={'born': 1971, 'name': 'Noah Wyle'}>>, <Record p=<Node id=22 labels=frozenset({'Person'}) properties={'born': 1968, 'name': 'Cuba Gooding Jr.'}>>, <Record p=<Node id=23 labels=frozenset({'Person'}) properties={'born': 1957, 'name': 'Kevin Pollak'}>>, <Record p=<Node id=24 labels=frozenset({'Person'}) properties={'born': 1943, 'name': 'J.T. Walsh'}>>, <Record p=<Node id=25 labels=frozenset({'Person'}) properties={'born': 1967, 'name': 'James Marshall'}>>, <Record p=<Node id=26 labels=frozenset({'Person'}) properties={'born': 1948, 'name': 'Christopher Guest'}>>, <Record p=<Node id=27 labels=frozenset({'Person'}) properties={'born': 1947, 'name': 'Rob Reiner'}>>, <Record p=<Node id=28 labels=frozenset({'Person'}) properties={'born': 1961, 'name': 'Aaron Sorkin'}>>, <Record p=<Node id=30 labels=frozenset({'Person'}) properties={'born': 1957, 'name': 'Kelly McGillis'}>>, <Record p=<Node id=31 labels=frozenset({'Person'}) properties={'born': 1959, 'name': 'Val Kilmer'}>>, <Record p=<Node id=32 labels=frozenset({'Person'}) properties={'born': 1962, 'name': 'Anthony Edwards'}>>, <Record p=<Node id=33 labels=frozenset({'Person'}) properties={'born': 1933, 'name': 'Tom Skerritt'}>>, <Record p=<Node id=34 labels=frozenset({'Person'}) properties={'born': 1961, 'name': 'Meg Ryan'}>>, <Record p=<Node id=35 labels=frozenset({'Person'}) properties={'born': 1944, 'name': 'Tony Scott'}>>, <Record p=<Node id=36 labels=frozenset({'Person'}) properties={'born': 1941, 'name': 'Jim Cash'}>>, <Record p=<Node id=38 labels=frozenset({'Person'}) properties={'born': 1969, 'name': 'Renee Zellweger'}>>, <Record p=<Node id=39 labels=frozenset({'Person'}) properties={'born': 1962, 'name': 'Kelly Preston'}>>, <Record p=<Node id=40 labels=frozenset({'Person'}) properties={'born': 1974, 'name': \"Jerry O'Connell\"}>>, <Record p=<Node id=41 labels=frozenset({'Person'}) properties={'born': 1970, 'name': 'Jay Mohr'}>>, <Record p=<Node id=42 labels=frozenset({'Person'}) properties={'born': 1961, 'name': 'Bonnie Hunt'}>>, <Record p=<Node id=43 labels=frozenset({'Person'}) properties={'born': 1971, 'name': 'Regina King'}>>, <Record p=<Node id=44 labels=frozenset({'Person'}) properties={'born': 1996, 'name': 'Jonathan Lipnicki'}>>, <Record p=<Node id=45 labels=frozenset({'Person'}) properties={'born': 1957, 'name': 'Cameron Crowe'}>>, <Record p=<Node id=47 labels=frozenset({'Person'}) properties={'born': 1970, 'name': 'River Phoenix'}>>, <Record p=<Node id=48 labels=frozenset({'Person'}) properties={'born': 1971, 'name': 'Corey Feldman'}>>, <Record p=<Node id=49 labels=frozenset({'Person'}) properties={'born': 1972, 'name': 'Wil Wheaton'}>>, <Record p=<Node id=50 labels=frozenset({'Person'}) properties={'born': 1966, 'name': 'John Cusack'}>>, <Record p=<Node id=51 labels=frozenset({'Person'}) properties={'born': 1942, 'name': 'Marshall Bell'}>>, <Record p=<Node id=53 labels=frozenset({'Person'}) properties={'born': 1963, 'name': 'Helen Hunt'}>>, <Record p=<Node id=54 labels=frozenset({'Person'}) properties={'born': 1963, 'name': 'Greg Kinnear'}>>, <Record p=<Node id=55 labels=frozenset({'Person'}) properties={'born': 1940, 'name': 'James L. Brooks'}>>, <Record p=<Node id=57 labels=frozenset({'Person'}) properties={'born': 1960, 'name': 'Annabella Sciorra'}>>, <Record p=<Node id=58 labels=frozenset({'Person'}) properties={'born': 1929, 'name': 'Max von Sydow'}>>, <Record p=<Node id=59 labels=frozenset({'Person'}) properties={'born': 1942, 'name': 'Werner Herzog'}>>, <Record p=<Node id=60 labels=frozenset({'Person'}) properties={'born': 1951, 'name': 'Robin Williams'}>>, <Record p=<Node id=61 labels=frozenset({'Person'}) properties={'born': 1956, 'name': 'Vincent Ward'}>>, <Record p=<Node id=63 labels=frozenset({'Person'}) properties={'born': 1970, 'name': 'Ethan Hawke'}>>, <Record p=<Node id=64 labels=frozenset({'Person'}) properties={'born': 1971, 'name': 'Rick Yune'}>>, <Record p=<Node id=65 labels=frozenset({'Person'}) properties={'born': 1940, 'name': 'James Cromwell'}>>, <Record p=<Node id=66 labels=frozenset({'Person'}) properties={'born': 1953, 'name': 'Scott Hicks'}>>, <Record p=<Node id=68 labels=frozenset({'Person'}) properties={'born': 1968, 'name': 'Parker Posey'}>>, <Record p=<Node id=69 labels=frozenset({'Person'}) properties={'born': 1973, 'name': 'Dave Chappelle'}>>, <Record p=<Node id=70 labels=frozenset({'Person'}) properties={'born': 1967, 'name': 'Steve Zahn'}>>, <Record p=<Node id=71 labels=frozenset({'Person'}) properties={'born': 1956, 'name': 'Tom Hanks'}>>, <Record p=<Node id=72 labels=frozenset({'Person'}) properties={'born': 1941, 'name': 'Nora Ephron'}>>, <Record p=<Node id=74 labels=frozenset({'Person'}) properties={'born': 1956, 'name': 'Rita Wilson'}>>, <Record p=<Node id=75 labels=frozenset({'Person'}) properties={'born': 1953, 'name': 'Bill Pullman'}>>, <Record p=<Node id=76 labels=frozenset({'Person'}) properties={'born': 1949, 'name': 'Victor Garber'}>>, <Record p=<Node id=77 labels=frozenset({'Person'}) properties={'born': 1962, 'name': \"Rosie O'Donnell\"}>>, <Record p=<Node id=79 labels=frozenset({'Person'}) properties={'born': 1950, 'name': 'John Patrick Stanley'}>>, <Record p=<Node id=80 labels=frozenset({'Person'}) properties={'born': 1956, 'name': 'Nathan Lane'}>>, <Record p=<Node id=82 labels=frozenset({'Person'}) properties={'born': 1948, 'name': 'Billy Crystal'}>>, <Record p=<Node id=83 labels=frozenset({'Person'}) properties={'born': 1956, 'name': 'Carrie Fisher'}>>, <Record p=<Node id=84 labels=frozenset({'Person'}) properties={'born': 1949, 'name': 'Bruno Kirby'}>>, <Record p=<Node id=86 labels=frozenset({'Person'}) properties={'born': 1977, 'name': 'Liv Tyler'}>>, <Record p=<Node id=88 labels=frozenset({'Person'}) properties={'born': 1970, 'name': 'Brooke Langton'}>>, <Record p=<Node id=89 labels=frozenset({'Person'}) properties={'born': 1930, 'name': 'Gene Hackman'}>>, <Record p=<Node id=90 labels=frozenset({'Person'}) properties={'born': 1968, 'name': 'Orlando Jones'}>>, <Record p=<Node id=91 labels=frozenset({'Person'}) properties={'born': 1950, 'name': 'Howard Deutch'}>>, <Record p=<Node id=93 labels=frozenset({'Person'}) properties={'born': 1974, 'name': 'Christian Bale'}>>, <Record p=<Node id=94 labels=frozenset({'Person'}) properties={'born': 1954, 'name': 'Zach Grenier'}>>, <Record p=<Node id=96 labels=frozenset({'Person'}) properties={'born': 1931, 'name': 'Mike Nichols'}>>, <Record p=<Node id=98 labels=frozenset({'Person'}) properties={'born': 1930, 'name': 'Richard Harris'}>>, <Record p=<Node id=99 labels=frozenset({'Person'}) properties={'born': 1930, 'name': 'Clint Eastwood'}>>, <Record p=<Node id=101 labels=frozenset({'Person'}) properties={'born': 1947, 'name': 'Takeshi Kitano'}>>, <Record p=<Node id=102 labels=frozenset({'Person'}) properties={'born': 1968, 'name': 'Dina Meyer'}>>, <Record p=<Node id=103 labels=frozenset({'Person'}) properties={'born': 1958, 'name': 'Ice-T'}>>, <Record p=<Node id=104 labels=frozenset({'Person'}) properties={'born': 1953, 'name': 'Robert Longo'}>>, <Record p=<Node id=106 labels=frozenset({'Person'}) properties={'born': 1966, 'name': 'Halle Berry'}>>, <Record p=<Node id=107 labels=frozenset({'Person'}) properties={'born': 1949, 'name': 'Jim Broadbent'}>>, <Record p=<Node id=108 labels=frozenset({'Person'}) properties={'born': 1965, 'name': 'Tom Tykwer'}>>, <Record p=<Node id=109 labels=frozenset({'Person'}) properties={'born': 1969, 'name': 'David Mitchell'}>>, <Record p=<Node id=110 labels=frozenset({'Person'}) properties={'born': 1961, 'name': 'Stefan Arndt'}>>, <Record p=<Node id=112 labels=frozenset({'Person'}) properties={'born': 1939, 'name': 'Ian McKellen'}>>, <Record p=<Node id=113 labels=frozenset({'Person'}) properties={'born': 1976, 'name': 'Audrey Tautou'}>>, <Record p=<Node id=114 labels=frozenset({'Person'}) properties={'born': 1971, 'name': 'Paul Bettany'}>>, <Record p=<Node id=115 labels=frozenset({'Person'}) properties={'born': 1954, 'name': 'Ron Howard'}>>, <Record p=<Node id=117 labels=frozenset({'Person'}) properties={'born': 1981, 'name': 'Natalie Portman'}>>, <Record p=<Node id=118 labels=frozenset({'Person'}) properties={'born': 1946, 'name': 'Stephen Rea'}>>, <Record p=<Node id=119 labels=frozenset({'Person'}) properties={'born': 1940, 'name': 'John Hurt'}>>, <Record p=<Node id=120 labels=frozenset({'Person'}) properties={'born': 1967, 'name': 'Ben Miles'}>>, <Record p=<Node id=122 labels=frozenset({'Person'}) properties={'born': 1985, 'name': 'Emile Hirsch'}>>, <Record p=<Node id=123 labels=frozenset({'Person'}) properties={'born': 1960, 'name': 'John Goodman'}>>, <Record p=<Node id=124 labels=frozenset({'Person'}) properties={'born': 1946, 'name': 'Susan Sarandon'}>>, <Record p=<Node id=125 labels=frozenset({'Person'}) properties={'born': 1966, 'name': 'Matthew Fox'}>>, <Record p=<Node id=126 labels=frozenset({'Person'}) properties={'born': 1980, 'name': 'Christina Ricci'}>>, <Record p=<Node id=127 labels=frozenset({'Person'}) properties={'born': 1982, 'name': 'Rain'}>>, <Record p=<Node id=129 labels=frozenset({'Person'}) properties={'name': 'Naomie Harris'}>>, <Record p=<Node id=131 labels=frozenset({'Person'}) properties={'born': 1957, 'name': 'Michael Clarke Duncan'}>>, <Record p=<Node id=132 labels=frozenset({'Person'}) properties={'born': 1953, 'name': 'David Morse'}>>, <Record p=<Node id=133 labels=frozenset({'Person'}) properties={'born': 1968, 'name': 'Sam Rockwell'}>>, <Record p=<Node id=134 labels=frozenset({'Person'}) properties={'born': 1955, 'name': 'Gary Sinise'}>>, <Record p=<Node id=135 labels=frozenset({'Person'}) properties={'born': 1959, 'name': 'Patricia Clarkson'}>>, <Record p=<Node id=136 labels=frozenset({'Person'}) properties={'born': 1959, 'name': 'Frank Darabont'}>>, <Record p=<Node id=138 labels=frozenset({'Person'}) properties={'born': 1938, 'name': 'Frank Langella'}>>, <Record p=<Node id=139 labels=frozenset({'Person'}) properties={'born': 1969, 'name': 'Michael Sheen'}>>, <Record p=<Node id=140 labels=frozenset({'Person'}) properties={'born': 1960, 'name': 'Oliver Platt'}>>, <Record p=<Node id=142 labels=frozenset({'Person'}) properties={'born': 1944, 'name': 'Danny DeVito'}>>, <Record p=<Node id=143 labels=frozenset({'Person'}) properties={'born': 1965, 'name': 'John C. Reilly'}>>, <Record p=<Node id=145 labels=frozenset({'Person'}) properties={'born': 1950, 'name': 'Ed Harris'}>>, <Record p=<Node id=146 labels=frozenset({'Person'}) properties={'born': 1955, 'name': 'Bill Paxton'}>>, <Record p=<Node id=148 labels=frozenset({'Person'}) properties={'born': 1967, 'name': 'Philip Seymour Hoffman'}>>, <Record p=<Node id=149 labels=frozenset({'Person'}) properties={'born': 1943, 'name': 'Jan de Bont'}>>, <Record p=<Node id=151 labels=frozenset({'Person'}) properties={'born': 1951, 'name': 'Robert Zemeckis'}>>, <Record p=<Node id=153 labels=frozenset({'Person'}) properties={'born': 1932, 'name': 'Milos Forman'}>>, <Record p=<Node id=155 labels=frozenset({'Person'}) properties={'born': 1946, 'name': 'Diane Keaton'}>>, <Record p=<Node id=156 labels=frozenset({'Person'}) properties={'born': 1949, 'name': 'Nancy Meyers'}>>, <Record p=<Node id=158 labels=frozenset({'Person'}) properties={'born': 1958, 'name': 'Chris Columbus'}>>, <Record p=<Node id=160 labels=frozenset({'Person'}) properties={'born': 1967, 'name': 'Julia Roberts'}>>, <Record p=<Node id=163 labels=frozenset({'Person'}) properties={'born': 1954, 'name': 'Madonna'}>>, <Record p=<Node id=164 labels=frozenset({'Person'}) properties={'born': 1956, 'name': 'Geena Davis'}>>, <Record p=<Node id=165 labels=frozenset({'Person'}) properties={'born': 1963, 'name': 'Lori Petty'}>>, <Record p=<Node id=166 labels=frozenset({'Person'}) properties={'born': 1943, 'name': 'Penny Marshall'}>>, <Record p=<Node id=167 labels=frozenset({'Person'}) properties={'name': 'Paul Blythe'}>>, <Record p=<Node id=168 labels=frozenset({'Person'}) properties={'name': 'Angela Scope'}>>, <Record p=<Node id=169 labels=frozenset({'Person'}) properties={'name': 'Jessica Thompson'}>>, <Record p=<Node id=170 labels=frozenset({'Person'}) properties={'name': 'James Thompson'}>>, <Record p=<Node id=171 labels=frozenset({'Person'}) properties={'born': 1964, 'name': 'Keanu Reeves'}>>, <Record p=<Node id=172 labels=frozenset({'Person'}) properties={'name': 'David Leitch'}>>, <Record p=<Node id=173 labels=frozenset({'Person'}) properties={'name': 'William Dafoe'}>>, <Record p=<Node id=174 labels=frozenset({'Person'}) properties={'name': 'Michael Nyquist'}>>, <Record p=<Node id=177 labels=frozenset({'Person'}) properties={'born': 1964, 'name': 'Keanu Reeves'}>>, <Record p=<Node id=178 labels=frozenset({'Person'}) properties={'name': 'David Leitch'}>>, <Record p=<Node id=179 labels=frozenset({'Person'}) properties={'name': 'William Dafoe'}>>, <Record p=<Node id=180 labels=frozenset({'Person'}) properties={'name': 'Michael Nyquist'}>>, <Record p=<Node id=182 labels=frozenset({'Person'}) properties={'born': 1964, 'name': 'Keanu Reeves'}>>, <Record p=<Node id=183 labels=frozenset({'Person'}) properties={'name': 'Chad Stahelski'}>>, <Record p=<Node id=184 labels=frozenset({'Person'}) properties={'name': 'David Leitch'}>>, <Record p=<Node id=185 labels=frozenset({'Person'}) properties={'name': 'William Dafoe'}>>, <Record p=<Node id=186 labels=frozenset({'Person'}) properties={'name': 'Michael Nyquist'}>>, <Record p=<Node id=188 labels=frozenset({'Person'}) properties={'born': 1964, 'name': 'Keanu Reeves'}>>, <Record p=<Node id=189 labels=frozenset({'Person'}) properties={'name': 'Chad Stahelski'}>>, <Record p=<Node id=190 labels=frozenset({'Person'}) properties={'name': 'David Leitch'}>>, <Record p=<Node id=191 labels=frozenset({'Person'}) properties={'name': 'William Dafoe'}>>, <Record p=<Node id=192 labels=frozenset({'Person'}) properties={'name': 'Michael Nyquist'}>>]\n"
     ]
    }
   ],
   "source": [
    "# execute query\n",
    "query = '''\n",
    "MATCH (p:Person)\n",
    "WHERE (:Person{name: 'Keanu Reeves'})-[:ACTED_IN]->(:Movie)\n",
    "RETURN DISTINCT p\n",
    "'''\n",
    "executed_query = neo_session.run(query)\n",
    "\n",
    "# convert list for printing\n",
    "result = list(executed_query)\n",
    "print(result)"
   ]
  },
  {
   "cell_type": "markdown",
   "id": "aa65e8aa",
   "metadata": {},
   "source": [
    "### Find directors of movies in which Keanu Reeves starred in"
   ]
  },
  {
   "cell_type": "code",
   "execution_count": 8,
   "id": "c8ead82d",
   "metadata": {},
   "outputs": [
    {
     "name": "stdout",
     "output_type": "stream",
     "text": [
      "[<Record COLLECT(DISTINCT p)=[<Node id=5 labels=frozenset({'Person'}) properties={'born': 1967, 'name': 'Lilly Wachowski'}>, <Node id=6 labels=frozenset({'Person'}) properties={'born': 1965, 'name': 'Lana Wachowski'}>, <Node id=14 labels=frozenset({'Person'}) properties={'born': 1944, 'name': 'Taylor Hackford'}>, <Node id=91 labels=frozenset({'Person'}) properties={'born': 1950, 'name': 'Howard Deutch'}>, <Node id=104 labels=frozenset({'Person'}) properties={'born': 1953, 'name': 'Robert Longo'}>, <Node id=156 labels=frozenset({'Person'}) properties={'born': 1949, 'name': 'Nancy Meyers'}>, <Node id=178 labels=frozenset({'Person'}) properties={'name': 'David Leitch'}>, <Node id=183 labels=frozenset({'Person'}) properties={'name': 'Chad Stahelski'}>, <Node id=184 labels=frozenset({'Person'}) properties={'name': 'David Leitch'}>, <Node id=189 labels=frozenset({'Person'}) properties={'name': 'Chad Stahelski'}>, <Node id=190 labels=frozenset({'Person'}) properties={'name': 'David Leitch'}>]>]\n"
     ]
    }
   ],
   "source": [
    "# execute query\n",
    "query = '''\n",
    "MATCH (p:Person), (m:Movie)\n",
    "WHERE (:Person{name: 'Keanu Reeves'})-[:ACTED_IN]->(m:Movie)\n",
    "AND (p)-[:DIRECTED]->(m)\n",
    "RETURN COLLECT(DISTINCT p)\n",
    "'''\n",
    "executed_query = neo_session.run(query)\n",
    "\n",
    "# convert list for printing\n",
    "result = list(executed_query)\n",
    "print(result)"
   ]
  },
  {
   "cell_type": "code",
   "execution_count": null,
   "id": "0f54c24c",
   "metadata": {},
   "outputs": [],
   "source": []
  }
 ],
 "metadata": {
  "kernelspec": {
   "display_name": "Python 3",
   "language": "python",
   "name": "python3"
  },
  "language_info": {
   "codemirror_mode": {
    "name": "ipython",
    "version": 3
   },
   "file_extension": ".py",
   "mimetype": "text/x-python",
   "name": "python",
   "nbconvert_exporter": "python",
   "pygments_lexer": "ipython3",
   "version": "3.9.6"
  }
 },
 "nbformat": 4,
 "nbformat_minor": 5
}
